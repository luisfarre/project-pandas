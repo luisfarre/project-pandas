{
 "cells": [
  {
   "cell_type": "code",
   "execution_count": 1,
   "metadata": {
    "ExecuteTime": {
     "end_time": "2020-02-05T23:04:35.787977Z",
     "start_time": "2020-02-05T23:04:34.523139Z"
    }
   },
   "outputs": [],
   "source": [
    "import pandas as pd\n",
    "import numpy as np\n",
    "import re"
   ]
  },
  {
   "cell_type": "code",
   "execution_count": 2,
   "metadata": {
    "ExecuteTime": {
     "end_time": "2020-02-05T23:04:36.042354Z",
     "start_time": "2020-02-05T23:04:35.792450Z"
    }
   },
   "outputs": [],
   "source": [
    "df=pd.read_csv('GSAF5.csv',sep=',', engine='python')"
   ]
  },
  {
   "cell_type": "code",
   "execution_count": 3,
   "metadata": {
    "ExecuteTime": {
     "end_time": "2020-02-05T23:04:36.049200Z",
     "start_time": "2020-02-05T23:04:36.046379Z"
    }
   },
   "outputs": [],
   "source": [
    "#print(df['href formula'][0])"
   ]
  },
  {
   "cell_type": "code",
   "execution_count": 4,
   "metadata": {
    "ExecuteTime": {
     "end_time": "2020-02-05T23:04:36.055136Z",
     "start_time": "2020-02-05T23:04:36.051785Z"
    }
   },
   "outputs": [],
   "source": [
    "#df.info()"
   ]
  },
  {
   "cell_type": "code",
   "execution_count": 5,
   "metadata": {
    "ExecuteTime": {
     "end_time": "2020-02-05T23:04:36.072769Z",
     "start_time": "2020-02-05T23:04:36.057468Z"
    }
   },
   "outputs": [],
   "source": [
    "null_cols=df.isnull().sum()"
   ]
  },
  {
   "cell_type": "code",
   "execution_count": 6,
   "metadata": {
    "ExecuteTime": {
     "end_time": "2020-02-05T23:04:36.088498Z",
     "start_time": "2020-02-05T23:04:36.074729Z"
    }
   },
   "outputs": [
    {
     "data": {
      "text/plain": [
       "Country                     43\n",
       "Area                       402\n",
       "Location                   496\n",
       "Activity                   527\n",
       "Name                       200\n",
       "Sex                        567\n",
       "Age                       2681\n",
       "Injury                      27\n",
       "Fatal (Y/N)                 19\n",
       "Time                      3213\n",
       "Species                   2934\n",
       "Investigator or Source      15\n",
       "href formula                 1\n",
       "href                         3\n",
       "Unnamed: 22               5991\n",
       "Unnamed: 23               5990\n",
       "dtype: int64"
      ]
     },
     "execution_count": 6,
     "metadata": {},
     "output_type": "execute_result"
    }
   ],
   "source": [
    "null_cols[null_cols>0]"
   ]
  },
  {
   "cell_type": "code",
   "execution_count": 7,
   "metadata": {
    "ExecuteTime": {
     "end_time": "2020-02-05T23:04:36.095908Z",
     "start_time": "2020-02-05T23:04:36.090529Z"
    }
   },
   "outputs": [
    {
     "data": {
      "text/plain": [
       "['Unnamed: 22', 'Unnamed: 23']"
      ]
     },
     "execution_count": 7,
     "metadata": {},
     "output_type": "execute_result"
    }
   ],
   "source": [
    "drop_cols=list(null_cols[null_cols>4000].index)\n",
    "drop_cols"
   ]
  },
  {
   "cell_type": "code",
   "execution_count": 8,
   "metadata": {
    "ExecuteTime": {
     "end_time": "2020-02-05T23:04:36.105212Z",
     "start_time": "2020-02-05T23:04:36.099216Z"
    }
   },
   "outputs": [],
   "source": [
    "df['Year']=df['Year'].apply(str)"
   ]
  },
  {
   "cell_type": "code",
   "execution_count": 9,
   "metadata": {
    "ExecuteTime": {
     "end_time": "2020-02-05T23:04:36.132454Z",
     "start_time": "2020-02-05T23:04:36.107862Z"
    }
   },
   "outputs": [
    {
     "name": "stdout",
     "output_type": "stream",
     "text": [
      "<class 'pandas.core.frame.DataFrame'>\n",
      "RangeIndex: 5992 entries, 0 to 5991\n",
      "Data columns (total 24 columns):\n",
      "Case Number               5992 non-null object\n",
      "Date                      5992 non-null object\n",
      "Year                      5992 non-null object\n",
      "Type                      5992 non-null object\n",
      "Country                   5949 non-null object\n",
      "Area                      5590 non-null object\n",
      "Location                  5496 non-null object\n",
      "Activity                  5465 non-null object\n",
      "Name                      5792 non-null object\n",
      "Sex                       5425 non-null object\n",
      "Age                       3311 non-null object\n",
      "Injury                    5965 non-null object\n",
      "Fatal (Y/N)               5973 non-null object\n",
      "Time                      2779 non-null object\n",
      "Species                   3058 non-null object\n",
      "Investigator or Source    5977 non-null object\n",
      "pdf                       5992 non-null object\n",
      "href formula              5991 non-null object\n",
      "href                      5989 non-null object\n",
      "Case Number.1             5992 non-null object\n",
      "Case Number.2             5992 non-null object\n",
      "original order            5992 non-null int64\n",
      "Unnamed: 22               1 non-null object\n",
      "Unnamed: 23               2 non-null object\n",
      "dtypes: int64(1), object(23)\n",
      "memory usage: 1.1+ MB\n"
     ]
    }
   ],
   "source": [
    "df.info()"
   ]
  },
  {
   "cell_type": "code",
   "execution_count": 10,
   "metadata": {
    "ExecuteTime": {
     "end_time": "2020-02-05T23:04:36.143901Z",
     "start_time": "2020-02-05T23:04:36.134356Z"
    }
   },
   "outputs": [
    {
     "data": {
      "text/plain": [
       "Index(['Case Number', 'Date', 'Year', 'Type', 'Country', 'Area', 'Location',\n",
       "       'Activity', 'Name', 'Sex ', 'Age', 'Injury', 'Fatal (Y/N)', 'Time',\n",
       "       'Species ', 'Investigator or Source', 'pdf', 'href formula', 'href',\n",
       "       'Case Number.1', 'Case Number.2', 'original order'],\n",
       "      dtype='object')"
      ]
     },
     "execution_count": 10,
     "metadata": {},
     "output_type": "execute_result"
    }
   ],
   "source": [
    "df=df.drop(drop_cols,axis=1)\n",
    "df.columns"
   ]
  },
  {
   "cell_type": "code",
   "execution_count": 11,
   "metadata": {
    "ExecuteTime": {
     "end_time": "2020-02-05T23:04:36.149902Z",
     "start_time": "2020-02-05T23:04:36.145787Z"
    }
   },
   "outputs": [
    {
     "data": {
      "text/plain": [
       "(5992, 22)"
      ]
     },
     "execution_count": 11,
     "metadata": {},
     "output_type": "execute_result"
    }
   ],
   "source": [
    "df.shape"
   ]
  },
  {
   "cell_type": "code",
   "execution_count": 12,
   "metadata": {
    "ExecuteTime": {
     "end_time": "2020-02-05T23:04:36.155002Z",
     "start_time": "2020-02-05T23:04:36.152104Z"
    }
   },
   "outputs": [],
   "source": [
    "drop_list = ['pdf', 'href formula', 'href',\n",
    "       'Case Number.1', 'Case Number.2','original order']\n"
   ]
  },
  {
   "cell_type": "code",
   "execution_count": 13,
   "metadata": {
    "ExecuteTime": {
     "end_time": "2020-02-05T23:04:36.163873Z",
     "start_time": "2020-02-05T23:04:36.157021Z"
    }
   },
   "outputs": [],
   "source": [
    "df=df.drop(drop_list,axis=1)"
   ]
  },
  {
   "cell_type": "code",
   "execution_count": 14,
   "metadata": {
    "ExecuteTime": {
     "end_time": "2020-02-05T23:04:36.191555Z",
     "start_time": "2020-02-05T23:04:36.166060Z"
    }
   },
   "outputs": [
    {
     "data": {
      "text/html": [
       "<div>\n",
       "<style scoped>\n",
       "    .dataframe tbody tr th:only-of-type {\n",
       "        vertical-align: middle;\n",
       "    }\n",
       "\n",
       "    .dataframe tbody tr th {\n",
       "        vertical-align: top;\n",
       "    }\n",
       "\n",
       "    .dataframe thead th {\n",
       "        text-align: right;\n",
       "    }\n",
       "</style>\n",
       "<table border=\"1\" class=\"dataframe\">\n",
       "  <thead>\n",
       "    <tr style=\"text-align: right;\">\n",
       "      <th></th>\n",
       "      <th>Case Number</th>\n",
       "      <th>Date</th>\n",
       "      <th>Year</th>\n",
       "      <th>Type</th>\n",
       "      <th>Country</th>\n",
       "      <th>Area</th>\n",
       "      <th>Location</th>\n",
       "      <th>Activity</th>\n",
       "      <th>Name</th>\n",
       "      <th>Sex</th>\n",
       "      <th>Age</th>\n",
       "      <th>Injury</th>\n",
       "      <th>Fatal (Y/N)</th>\n",
       "      <th>Time</th>\n",
       "      <th>Species</th>\n",
       "      <th>Investigator or Source</th>\n",
       "    </tr>\n",
       "  </thead>\n",
       "  <tbody>\n",
       "    <tr>\n",
       "      <th>0</th>\n",
       "      <td>2016.09.18.c</td>\n",
       "      <td>18-Sep-16</td>\n",
       "      <td>2016</td>\n",
       "      <td>Unprovoked</td>\n",
       "      <td>USA</td>\n",
       "      <td>Florida</td>\n",
       "      <td>New Smyrna Beach, Volusia County</td>\n",
       "      <td>Surfing</td>\n",
       "      <td>male</td>\n",
       "      <td>M</td>\n",
       "      <td>16</td>\n",
       "      <td>Minor injury to thigh</td>\n",
       "      <td>N</td>\n",
       "      <td>13h00</td>\n",
       "      <td>NaN</td>\n",
       "      <td>Orlando Sentinel, 9/19/2016</td>\n",
       "    </tr>\n",
       "    <tr>\n",
       "      <th>1</th>\n",
       "      <td>2016.09.18.b</td>\n",
       "      <td>18-Sep-16</td>\n",
       "      <td>2016</td>\n",
       "      <td>Unprovoked</td>\n",
       "      <td>USA</td>\n",
       "      <td>Florida</td>\n",
       "      <td>New Smyrna Beach, Volusia County</td>\n",
       "      <td>Surfing</td>\n",
       "      <td>Chucky Luciano</td>\n",
       "      <td>M</td>\n",
       "      <td>36</td>\n",
       "      <td>Lacerations to hands</td>\n",
       "      <td>N</td>\n",
       "      <td>11h00</td>\n",
       "      <td>NaN</td>\n",
       "      <td>Orlando Sentinel, 9/19/2016</td>\n",
       "    </tr>\n",
       "    <tr>\n",
       "      <th>2</th>\n",
       "      <td>2016.09.18.a</td>\n",
       "      <td>18-Sep-16</td>\n",
       "      <td>2016</td>\n",
       "      <td>Unprovoked</td>\n",
       "      <td>USA</td>\n",
       "      <td>Florida</td>\n",
       "      <td>New Smyrna Beach, Volusia County</td>\n",
       "      <td>Surfing</td>\n",
       "      <td>male</td>\n",
       "      <td>M</td>\n",
       "      <td>43</td>\n",
       "      <td>Lacerations to lower leg</td>\n",
       "      <td>N</td>\n",
       "      <td>10h43</td>\n",
       "      <td>NaN</td>\n",
       "      <td>Orlando Sentinel, 9/19/2016</td>\n",
       "    </tr>\n",
       "    <tr>\n",
       "      <th>3</th>\n",
       "      <td>2016.09.17</td>\n",
       "      <td>17-Sep-16</td>\n",
       "      <td>2016</td>\n",
       "      <td>Unprovoked</td>\n",
       "      <td>AUSTRALIA</td>\n",
       "      <td>Victoria</td>\n",
       "      <td>Thirteenth Beach</td>\n",
       "      <td>Surfing</td>\n",
       "      <td>Rory Angiolella</td>\n",
       "      <td>M</td>\n",
       "      <td>NaN</td>\n",
       "      <td>Struck by fin on chest &amp; leg</td>\n",
       "      <td>N</td>\n",
       "      <td>NaN</td>\n",
       "      <td>NaN</td>\n",
       "      <td>The Age, 9/18/2016</td>\n",
       "    </tr>\n",
       "    <tr>\n",
       "      <th>4</th>\n",
       "      <td>2016.09.15</td>\n",
       "      <td>16-Sep-16</td>\n",
       "      <td>2016</td>\n",
       "      <td>Unprovoked</td>\n",
       "      <td>AUSTRALIA</td>\n",
       "      <td>Victoria</td>\n",
       "      <td>Bells Beach</td>\n",
       "      <td>Surfing</td>\n",
       "      <td>male</td>\n",
       "      <td>M</td>\n",
       "      <td>NaN</td>\n",
       "      <td>No injury: Knocked off board by shark</td>\n",
       "      <td>N</td>\n",
       "      <td>NaN</td>\n",
       "      <td>2 m shark</td>\n",
       "      <td>The Age, 9/16/2016</td>\n",
       "    </tr>\n",
       "    <tr>\n",
       "      <th>...</th>\n",
       "      <td>...</td>\n",
       "      <td>...</td>\n",
       "      <td>...</td>\n",
       "      <td>...</td>\n",
       "      <td>...</td>\n",
       "      <td>...</td>\n",
       "      <td>...</td>\n",
       "      <td>...</td>\n",
       "      <td>...</td>\n",
       "      <td>...</td>\n",
       "      <td>...</td>\n",
       "      <td>...</td>\n",
       "      <td>...</td>\n",
       "      <td>...</td>\n",
       "      <td>...</td>\n",
       "      <td>...</td>\n",
       "    </tr>\n",
       "    <tr>\n",
       "      <th>195</th>\n",
       "      <td>2015.06.07</td>\n",
       "      <td>07-Jun-15</td>\n",
       "      <td>2015</td>\n",
       "      <td>Unprovoked</td>\n",
       "      <td>USA</td>\n",
       "      <td>Florida</td>\n",
       "      <td>Lori Wilson Park, Cocoa Beach, Brevard  County</td>\n",
       "      <td>Playing</td>\n",
       "      <td>Lucas Vertullo</td>\n",
       "      <td>M</td>\n",
       "      <td>11</td>\n",
       "      <td>Lacerations to right calf</td>\n",
       "      <td>N</td>\n",
       "      <td>10h50</td>\n",
       "      <td>Bull shark, 5'</td>\n",
       "      <td>Florida Today, 6/7/2015</td>\n",
       "    </tr>\n",
       "    <tr>\n",
       "      <th>196</th>\n",
       "      <td>2015.06.05</td>\n",
       "      <td>05-Jun-15</td>\n",
       "      <td>2015</td>\n",
       "      <td>Unprovoked</td>\n",
       "      <td>USA</td>\n",
       "      <td>Florida</td>\n",
       "      <td>Fort Lauderdale</td>\n",
       "      <td>Attempting to rescue a shark</td>\n",
       "      <td>female</td>\n",
       "      <td>F</td>\n",
       "      <td>17</td>\n",
       "      <td>Puncture wound to finger</td>\n",
       "      <td>N</td>\n",
       "      <td>NaN</td>\n",
       "      <td>small nurse shark</td>\n",
       "      <td>7 News, 6/5/2015</td>\n",
       "    </tr>\n",
       "    <tr>\n",
       "      <th>197</th>\n",
       "      <td>2015.06.01</td>\n",
       "      <td>01-Jun-15</td>\n",
       "      <td>2015</td>\n",
       "      <td>Unprovoked</td>\n",
       "      <td>REUNION</td>\n",
       "      <td>Le Port</td>\n",
       "      <td>Folette</td>\n",
       "      <td>Surfing</td>\n",
       "      <td>Eddy Chaussalet</td>\n",
       "      <td>M</td>\n",
       "      <td>47</td>\n",
       "      <td>Left forearm bitten</td>\n",
       "      <td>N</td>\n",
       "      <td>15h00</td>\n",
       "      <td>Bull shark, 2.5 m</td>\n",
       "      <td>Clincanoo, 6/1/2015</td>\n",
       "    </tr>\n",
       "    <tr>\n",
       "      <th>198</th>\n",
       "      <td>2015.05.29.b</td>\n",
       "      <td>29-May-15</td>\n",
       "      <td>2015</td>\n",
       "      <td>Unprovoked</td>\n",
       "      <td>USA</td>\n",
       "      <td>Florida</td>\n",
       "      <td>Cocoa Beach, Brevard  County</td>\n",
       "      <td>Standing</td>\n",
       "      <td>Ashlyn Gilpin</td>\n",
       "      <td>F</td>\n",
       "      <td>14</td>\n",
       "      <td>Left foot bitten</td>\n",
       "      <td>N</td>\n",
       "      <td>15h00</td>\n",
       "      <td>NaN</td>\n",
       "      <td>Orlando Sentinel, 5/29/2015</td>\n",
       "    </tr>\n",
       "    <tr>\n",
       "      <th>199</th>\n",
       "      <td>2015.05.29.a</td>\n",
       "      <td>29-May-15</td>\n",
       "      <td>2015</td>\n",
       "      <td>Unprovoked</td>\n",
       "      <td>USA</td>\n",
       "      <td>Florida</td>\n",
       "      <td>New Smyrna Beach, Volusia County</td>\n",
       "      <td>Wading</td>\n",
       "      <td>Dakota Hatfield</td>\n",
       "      <td>F</td>\n",
       "      <td>19</td>\n",
       "      <td>Minor lacerations to dorsum of right foot</td>\n",
       "      <td>N</td>\n",
       "      <td>13h45</td>\n",
       "      <td>NaN</td>\n",
       "      <td>ClickOrlando, 5/29/2015</td>\n",
       "    </tr>\n",
       "  </tbody>\n",
       "</table>\n",
       "<p>200 rows × 16 columns</p>\n",
       "</div>"
      ],
      "text/plain": [
       "      Case Number       Date  Year        Type    Country      Area  \\\n",
       "0    2016.09.18.c  18-Sep-16  2016  Unprovoked        USA   Florida   \n",
       "1    2016.09.18.b  18-Sep-16  2016  Unprovoked        USA   Florida   \n",
       "2    2016.09.18.a  18-Sep-16  2016  Unprovoked        USA   Florida   \n",
       "3      2016.09.17  17-Sep-16  2016  Unprovoked  AUSTRALIA  Victoria   \n",
       "4      2016.09.15  16-Sep-16  2016  Unprovoked  AUSTRALIA  Victoria   \n",
       "..            ...        ...   ...         ...        ...       ...   \n",
       "195    2015.06.07  07-Jun-15  2015  Unprovoked        USA   Florida   \n",
       "196    2015.06.05  05-Jun-15  2015  Unprovoked        USA   Florida   \n",
       "197    2015.06.01  01-Jun-15  2015  Unprovoked    REUNION   Le Port   \n",
       "198  2015.05.29.b  29-May-15  2015  Unprovoked        USA   Florida   \n",
       "199  2015.05.29.a  29-May-15  2015  Unprovoked        USA   Florida   \n",
       "\n",
       "                                           Location  \\\n",
       "0                  New Smyrna Beach, Volusia County   \n",
       "1                  New Smyrna Beach, Volusia County   \n",
       "2                  New Smyrna Beach, Volusia County   \n",
       "3                                  Thirteenth Beach   \n",
       "4                                       Bells Beach   \n",
       "..                                              ...   \n",
       "195  Lori Wilson Park, Cocoa Beach, Brevard  County   \n",
       "196                                 Fort Lauderdale   \n",
       "197                                         Folette   \n",
       "198                    Cocoa Beach, Brevard  County   \n",
       "199                New Smyrna Beach, Volusia County   \n",
       "\n",
       "                         Activity             Name Sex   Age  \\\n",
       "0                         Surfing             male    M   16   \n",
       "1                         Surfing   Chucky Luciano    M   36   \n",
       "2                         Surfing             male    M   43   \n",
       "3                         Surfing  Rory Angiolella    M  NaN   \n",
       "4                         Surfing             male    M  NaN   \n",
       "..                            ...              ...  ...  ...   \n",
       "195                       Playing   Lucas Vertullo    M   11   \n",
       "196  Attempting to rescue a shark           female    F   17   \n",
       "197                       Surfing  Eddy Chaussalet    M   47   \n",
       "198                      Standing    Ashlyn Gilpin    F   14   \n",
       "199                        Wading  Dakota Hatfield    F   19   \n",
       "\n",
       "                                        Injury Fatal (Y/N)   Time  \\\n",
       "0                        Minor injury to thigh           N  13h00   \n",
       "1                         Lacerations to hands           N  11h00   \n",
       "2                     Lacerations to lower leg           N  10h43   \n",
       "3                 Struck by fin on chest & leg           N    NaN   \n",
       "4        No injury: Knocked off board by shark           N    NaN   \n",
       "..                                         ...         ...    ...   \n",
       "195                  Lacerations to right calf           N  10h50   \n",
       "196                   Puncture wound to finger           N    NaN   \n",
       "197                        Left forearm bitten           N  15h00   \n",
       "198                           Left foot bitten           N  15h00   \n",
       "199  Minor lacerations to dorsum of right foot           N  13h45   \n",
       "\n",
       "              Species        Investigator or Source  \n",
       "0                  NaN  Orlando Sentinel, 9/19/2016  \n",
       "1                  NaN  Orlando Sentinel, 9/19/2016  \n",
       "2                  NaN  Orlando Sentinel, 9/19/2016  \n",
       "3                  NaN           The Age, 9/18/2016  \n",
       "4            2 m shark           The Age, 9/16/2016  \n",
       "..                 ...                          ...  \n",
       "195     Bull shark, 5'      Florida Today, 6/7/2015  \n",
       "196  small nurse shark             7 News, 6/5/2015  \n",
       "197  Bull shark, 2.5 m          Clincanoo, 6/1/2015  \n",
       "198                NaN  Orlando Sentinel, 5/29/2015  \n",
       "199                NaN      ClickOrlando, 5/29/2015  \n",
       "\n",
       "[200 rows x 16 columns]"
      ]
     },
     "execution_count": 14,
     "metadata": {},
     "output_type": "execute_result"
    }
   ],
   "source": [
    "df.head(200)"
   ]
  },
  {
   "cell_type": "code",
   "execution_count": 15,
   "metadata": {
    "ExecuteTime": {
     "end_time": "2020-02-05T23:04:36.197769Z",
     "start_time": "2020-02-05T23:04:36.193253Z"
    }
   },
   "outputs": [
    {
     "data": {
      "text/plain": [
       "Index(['Case Number', 'Date', 'Year', 'Type', 'Country', 'Area', 'Location',\n",
       "       'Activity', 'Name', 'Sex ', 'Age', 'Injury', 'Fatal (Y/N)', 'Time',\n",
       "       'Species ', 'Investigator or Source'],\n",
       "      dtype='object')"
      ]
     },
     "execution_count": 15,
     "metadata": {},
     "output_type": "execute_result"
    }
   ],
   "source": [
    "df.columns"
   ]
  },
  {
   "cell_type": "code",
   "execution_count": 16,
   "metadata": {
    "ExecuteTime": {
     "end_time": "2020-02-05T23:04:36.207833Z",
     "start_time": "2020-02-05T23:04:36.199421Z"
    }
   },
   "outputs": [
    {
     "data": {
      "text/plain": [
       "Index(['Case_Number', 'Date', 'Year', 'Type', 'Country', 'Area', 'Location',\n",
       "       'Activity', 'Name', 'Sex', 'Age', 'Injury', 'Fatal (Y/N)', 'Time',\n",
       "       'Species', 'Investigator or Source'],\n",
       "      dtype='object')"
      ]
     },
     "execution_count": 16,
     "metadata": {},
     "output_type": "execute_result"
    }
   ],
   "source": [
    "df=df.rename(columns={\"Sex \": \"Sex\", \"Species \": \"Species\",\"Case Number\": \"Case_Number\"})\n",
    "df.columns"
   ]
  },
  {
   "cell_type": "code",
   "execution_count": 17,
   "metadata": {
    "ExecuteTime": {
     "end_time": "2020-02-05T23:04:36.226735Z",
     "start_time": "2020-02-05T23:04:36.209493Z"
    }
   },
   "outputs": [],
   "source": [
    "df=df.fillna(value='Unknown')\n"
   ]
  },
  {
   "cell_type": "code",
   "execution_count": 18,
   "metadata": {
    "ExecuteTime": {
     "end_time": "2020-02-05T23:04:37.209947Z",
     "start_time": "2020-02-05T23:04:36.228819Z"
    }
   },
   "outputs": [
    {
     "name": "stdout",
     "output_type": "stream",
     "text": [
      "Case_Number\n",
      "Date\n",
      "Year\n",
      "Type\n",
      "Country\n",
      "Area\n",
      "Location\n",
      "Activity\n",
      "Name\n",
      "Sex\n",
      "Age\n",
      "Injury\n",
      "Fatal (Y/N)\n",
      "Time\n",
      "Species\n",
      "Investigator or Source\n"
     ]
    }
   ],
   "source": [
    "def split_it(string):\n",
    "    return re.sub(r'[^\\w]',' ', string)\n",
    "\n",
    "def beg_white(string):\n",
    "    return re.sub(r'^[ \\t]+','', string)\n",
    "\n",
    "#re.findall('(\\d\\d\\d\\d)', year)\n",
    "#df.astype({column: 'str'}).dtypes\n",
    "\n",
    "for column in df.columns:\n",
    "    print(column)\n",
    "    if  column == 'Year':\n",
    "        next\n",
    "    else:\n",
    "        df[column] = df[column].apply(lambda x: split_it(x))\n",
    "        df[column] = df[column].apply(lambda x: beg_white(x))        \n",
    "        df[column] = df[column].str.capitalize()\n",
    "        df[column] = df[column].str.replace(\"  \",\" \")\n",
    "        df[column] = df[column].str.replace(\"   \",\" \")\n"
   ]
  },
  {
   "cell_type": "code",
   "execution_count": 19,
   "metadata": {
    "ExecuteTime": {
     "end_time": "2020-02-05T23:04:37.256781Z",
     "start_time": "2020-02-05T23:04:37.212110Z"
    }
   },
   "outputs": [],
   "source": [
    "columns=['Fatal (Y/N)']\n",
    "\n",
    "for column in columns:\n",
    "    df[column] = df[column].str.replace(\" \",\"\")\n",
    "    df[column] = df[column].str.replace(\"n\",\"N\")\n",
    "    df[column] = df[column].str.replace(\"F\",\"Y\")\n",
    "    df[column] = df[column].str.capitalize()"
   ]
  },
  {
   "cell_type": "code",
   "execution_count": 20,
   "metadata": {
    "ExecuteTime": {
     "end_time": "2020-02-05T23:04:37.329198Z",
     "start_time": "2020-02-05T23:04:37.259643Z"
    }
   },
   "outputs": [],
   "source": [
    "columns=['Time']\n",
    "\n",
    "for column in columns:\n",
    "    df[column] = df[column].str.capitalize()\n",
    "    df[column] = df[column].str.replace(\"Late\",\"\")\n",
    "    df[column] = df[column].str.replace(\"late\",\"\")\n",
    "    df[column] = df[column].str.replace(\"Early\",\"\")\n",
    "    df[column] = df[column].str.replace(\"Mid\",\"\")\n",
    "    df[column] = df[column].str.replace(\"Between\",\"\")\n",
    "    df[column] = df[column].str.replace(\"Just Before\",\"\")\n",
    "    df[column] = df[column].str.replace(\"Before\",\"\")\n",
    "    df[column] = df[column].str.replace(\"After\",\"\")\n",
    "    df[column] = df[column].str.capitalize()"
   ]
  },
  {
   "cell_type": "code",
   "execution_count": 21,
   "metadata": {
    "ExecuteTime": {
     "end_time": "2020-02-05T23:04:37.345840Z",
     "start_time": "2020-02-05T23:04:37.331173Z"
    }
   },
   "outputs": [],
   "source": [
    "columns=['Sex']\n",
    "\n",
    "for column in columns:\n",
    "    df[column] = df[column].str.replace(\" \",\"\")\n",
    "    df[column] = df[column].str.capitalize()"
   ]
  },
  {
   "cell_type": "code",
   "execution_count": 22,
   "metadata": {
    "ExecuteTime": {
     "end_time": "2020-02-05T23:04:37.408242Z",
     "start_time": "2020-02-05T23:04:37.352374Z"
    }
   },
   "outputs": [],
   "source": [
    "columns=['Date']\n",
    "\n",
    "for column in columns:\n",
    "    df[column] = df[column].str.replace(\"Before\",\"\")\n",
    "    df[column] = df[column].str.replace(\"Reported\",\"\")\n",
    "    df[column] = df[column].str.replace(\"reported\",\"\")\n",
    "    df[column] = df[column].str.replace(\"Late\",\"\")\n",
    "    df[column] = df[column].str.replace(\"Early\",\"\")\n",
    "    df[column] = df[column].str.replace(\"Summer\",\"\")\n",
    "    #df.loc[df[column].str.startswith(['A-z']),column]=\" \"&df.loc[df[column]."
   ]
  },
  {
   "cell_type": "code",
   "execution_count": 23,
   "metadata": {
    "ExecuteTime": {
     "end_time": "2020-02-05T23:04:41.863855Z",
     "start_time": "2020-02-05T23:04:37.416102Z"
    }
   },
   "outputs": [
    {
     "name": "stdout",
     "output_type": "stream",
     "text": [
      "Case_Number\n",
      "['1907 10 16 r', '1980 07 00', '2012 09 02 b', '1920 00 00 b', '2009 12 18', '1966 12 26', '1962 06 11 b', '1913 08 27 r', '2013 10 05', '2006 09 02', '1923 00 00 a', '1990 05 10', '2005 04 06', '1983 06 15', '2014 08 02', '1915 07 06 a r', '1961 01 05', '1957 00 00 b', '1910 11 24', '2013 08 11', '1858 08 29', '1961 09 24 b', '1934 08 05', '1966 00 00', '1951 01 21']\n",
      "Date\n",
      "['1957', '1942', '1956', '1950', '1958', '1941', '1949', 'No date', ' 1958', '1955', 'No date before 1963', '1959', 'Aug 56', '1940', '12 apr 01', 'Oct 60', '05 oct 03', '1954', '28 jul 95', '1970s', '1961', '28 dec 14', '1995', '1945', '14 jun 12']\n",
      "Year\n",
      "Type\n",
      "['Unprovoked', 'Provoked', 'Invalid', 'Sea disaster', 'Boat', 'Boating']\n",
      "Country\n",
      "['Usa', 'Australia', 'South africa', 'Papua new guinea', 'New zealand', 'Brazil', 'Bahamas', 'Mexico', 'Italy', 'Fiji', 'Philippines', 'Reunion', 'New caledonia', 'Mozambique', 'Unknown', 'Cuba', 'Spain', 'India', 'Egypt', 'Croatia', 'Japan', 'Panama', 'Iran', 'Solomon islands', 'Greece']\n",
      "Area\n",
      "['Florida', 'New south wales', 'Unknown', 'Queensland', 'Hawaii', 'California', 'Kwazulu natal', 'Western cape province', 'Western australia', 'Eastern cape province', 'South carolina', 'South australia', 'North carolina', 'Victoria', 'Texas', 'Torres strait', 'Pernambuco', 'North island', 'New jersey', 'Tasmania', 'South island', 'Oregon', 'New york', 'Northern territory', 'Central province']\n",
      "Location\n",
      "['Unknown', 'New smyrna beach volusia county', 'Daytona beach volusia county', 'Cocoa beach brevard county', 'Myrtle beach horry county', 'Ponce inlet volusia county', 'Durban', 'Melbourne beach brevard county', 'Isle of palms charleston county', 'Boa viagem recife', 'Ponce inlet new smyrna beach volusia county', 'Ahvaz on the karun river', 'Palm beach palm beach county', 'Mossel bay', 'Piedade', 'Ormond beach volusia county', 'Singer island riviera beach palm beach county', 'Boa viagem beach recife', 'Sydney', 'Sydney harbor', 'Xai xai', 'Nahoon', 'North beach durban', 'Nahoon east london', 'Near thursday island']\n",
      "Activity\n",
      "['Surfing', 'Swimming', 'Unknown', 'Fishing', 'Spearfishing', 'Bathing', 'Wading', 'Diving', 'Standing', 'Scuba diving', 'Snorkeling', 'Body boarding', 'Swimming ', 'Body surfing', 'Boogie boarding', 'Pearl diving', 'Treading water', 'Free diving', 'Kayaking', 'Surf skiing', 'Fell overboard', 'Windsurfing', 'Shark fishing', 'Walking', 'Sea disaster']\n",
      "Name\n",
      "['Male', 'Unknown', 'Female', 'Boy', '2 males', 'Boat', 'Anonymous', 'Sailor', 'Child', 'Girl', 'A sailor', 'Fisherman', 'Males', 'Unidentified', 'A native', 'A pearl diver', 'Aboriginal male', 'Arab boy', 'Black male', '2 fishermen', 'A soldier', 'Dinghy', 'Japanese diver', 'Native boy', '3 males']\n",
      "Sex\n",
      "['M', 'F', 'Unknown', 'N', 'Lli', '']\n",
      "Age\n",
      "['Unknown', '17', '18', '19', '20', '15', '16', '21', '22', '24', '25', '14', '13', '23', '26', '27', '28', '29', '30', '12', '35', '32', '10', '31', '40']\n",
      "Injury\n",
      "['Fatal', 'Survived', 'Foot bitten', 'No injury', 'Leg bitten', 'Left foot bitten', 'No details', 'Right foot bitten', 'No injury board bitten', 'Unknown', 'Hand bitten', 'Thigh bitten', 'Fatal body not recovered', 'Minor injury', 'Foot lacerated', 'Lacerations to foot', 'Right leg bitten', 'Calf bitten', 'Arm bitten', 'No injury to occupants', 'Ankle bitten', 'Lacerations to right foot', 'Right calf bitten', 'Lacerations to left foot', 'Probable drowning  scavenging']\n",
      "Fatal (Y/N)\n",
      "['N', 'Y', 'Unknown', 'Value']\n",
      "Time\n",
      "['Unknown', 'Noon', '11h00', '12h00', 'Morning', '15h00', '14h00', '16h00', '16h30', '14h30', '13h00', '17h30', '17h00', 'Night', '15h30', '18h00', '11h30', '13h30', '10h00', '09h00', '10h30', ' afternoon', 'Evening', '12h30', '07h30']\n",
      "Species\n",
      "['Unknown', 'White shark', 'Shark involvement not confirmed', 'Tiger shark', 'Bull shark', '6 shark', '4 shark', '1 8 m 6  shark', '1 5 m 5  shark', '1 2 m 4  shark', '3 shark', '5 shark', '4 to 5 shark', '3 m 10  shark', '2 m shark', 'No shark involvement', '2 4 m 8  shark', 'Wobbegong shark', 'A small shark ', '3 m shark', '3 to 4 shark', '3 7 m 12  shark', 'Mako shark', '1 5 m shark', 'Blacktip shark']\n",
      "Investigator or Source\n",
      "['C moore gsaf', 'C creswell gsaf', 'S petersohn gsaf', 'R collier', 'T peake gsaf', 'M levine gsaf', 'R collier gsaf', 'A gifford gsaf', 'C moore', 'Gsaf', 'E pace fsaf', 'E ritter gsaf', 'G van grevelynghe', 'Jconline', 'J green p 36', 'Unknown', 'R d weeks gsaf', 'W leander', 'C johansson gsaf', 'K nakaya', 'S petersohn', 'C black gsaf', 'Hawaii department of land and natural resources', 'M vorenberg gsaf', 'M vorenberg']\n"
     ]
    }
   ],
   "source": [
    "for column in df.columns:\n",
    "    print(column)\n",
    "    if  column == 'Year':\n",
    "        next\n",
    "    else:\n",
    "        L = df[column].value_counts().index[:25].tolist()\n",
    "        print(L)\n",
    "        for activ in L:\n",
    "            df.loc[df[column].str.startswith(activ),column]=activ"
   ]
  },
  {
   "cell_type": "code",
   "execution_count": 24,
   "metadata": {
    "ExecuteTime": {
     "end_time": "2020-02-05T23:04:41.887217Z",
     "start_time": "2020-02-05T23:04:41.868335Z"
    }
   },
   "outputs": [
    {
     "data": {
      "text/plain": [
       "Swimming                                                                                             1019\n",
       "Surfing                                                                                               944\n",
       "Fishing                                                                                               594\n",
       "Unknown                                                                                               532\n",
       "Spearfishing                                                                                          394\n",
       "                                                                                                     ... \n",
       "Fell from the jetty                                                                                     1\n",
       "Attempting to fix motor                                                                                 1\n",
       "Small boat                                                                                              1\n",
       "Sleeping in anchored boat                                                                               1\n",
       "Conducting a promotional film project for the gemini space program a practice astronaut recovery        1\n",
       "Name: Activity, Length: 846, dtype: int64"
      ]
     },
     "execution_count": 24,
     "metadata": {},
     "output_type": "execute_result"
    }
   ],
   "source": [
    "pd.value_counts(df['Activity'])\n",
    "\n"
   ]
  },
  {
   "cell_type": "code",
   "execution_count": null,
   "metadata": {},
   "outputs": [],
   "source": []
  },
  {
   "cell_type": "code",
   "execution_count": 25,
   "metadata": {
    "ExecuteTime": {
     "end_time": "2020-02-05T23:04:41.900216Z",
     "start_time": "2020-02-05T23:04:41.893028Z"
    }
   },
   "outputs": [],
   "source": [
    "#df['Date'] = df['Date'].str.replace(\"Before \",\"\")"
   ]
  },
  {
   "cell_type": "code",
   "execution_count": 26,
   "metadata": {
    "ExecuteTime": {
     "end_time": "2020-02-05T23:04:42.013208Z",
     "start_time": "2020-02-05T23:04:41.906349Z"
    }
   },
   "outputs": [
    {
     "data": {
      "text/html": [
       "<div>\n",
       "<style scoped>\n",
       "    .dataframe tbody tr th:only-of-type {\n",
       "        vertical-align: middle;\n",
       "    }\n",
       "\n",
       "    .dataframe tbody tr th {\n",
       "        vertical-align: top;\n",
       "    }\n",
       "\n",
       "    .dataframe thead th {\n",
       "        text-align: right;\n",
       "    }\n",
       "</style>\n",
       "<table border=\"1\" class=\"dataframe\">\n",
       "  <thead>\n",
       "    <tr style=\"text-align: right;\">\n",
       "      <th></th>\n",
       "      <th>Case_Number</th>\n",
       "      <th>Date</th>\n",
       "      <th>Year</th>\n",
       "      <th>Type</th>\n",
       "      <th>Country</th>\n",
       "      <th>Area</th>\n",
       "      <th>Location</th>\n",
       "      <th>Activity</th>\n",
       "      <th>Name</th>\n",
       "      <th>Sex</th>\n",
       "      <th>Age</th>\n",
       "      <th>Injury</th>\n",
       "      <th>Fatal (Y/N)</th>\n",
       "      <th>Time</th>\n",
       "      <th>Species</th>\n",
       "      <th>Investigator or Source</th>\n",
       "      <th>Year_Date</th>\n",
       "      <th>Month_Date</th>\n",
       "      <th>Date__Date</th>\n",
       "      <th>Month</th>\n",
       "    </tr>\n",
       "  </thead>\n",
       "  <tbody>\n",
       "    <tr>\n",
       "      <th>0</th>\n",
       "      <td>2016 09 18 c</td>\n",
       "      <td>18 sep 16</td>\n",
       "      <td>2016</td>\n",
       "      <td>Unprovoked</td>\n",
       "      <td>Usa</td>\n",
       "      <td>Florida</td>\n",
       "      <td>New smyrna beach volusia county</td>\n",
       "      <td>Surfing</td>\n",
       "      <td>Male</td>\n",
       "      <td></td>\n",
       "      <td>16</td>\n",
       "      <td>Minor injury</td>\n",
       "      <td>N</td>\n",
       "      <td>13h00</td>\n",
       "      <td>Unknown</td>\n",
       "      <td>Orlando sentinel 9 19 2016</td>\n",
       "      <td>18</td>\n",
       "      <td>sep</td>\n",
       "      <td>16</td>\n",
       "      <td>09</td>\n",
       "    </tr>\n",
       "    <tr>\n",
       "      <th>1</th>\n",
       "      <td>2016 09 18 b</td>\n",
       "      <td>18 sep 16</td>\n",
       "      <td>2016</td>\n",
       "      <td>Unprovoked</td>\n",
       "      <td>Usa</td>\n",
       "      <td>Florida</td>\n",
       "      <td>New smyrna beach volusia county</td>\n",
       "      <td>Surfing</td>\n",
       "      <td>Chucky luciano</td>\n",
       "      <td></td>\n",
       "      <td>36</td>\n",
       "      <td>Lacerations to hands</td>\n",
       "      <td>N</td>\n",
       "      <td>11h00</td>\n",
       "      <td>Unknown</td>\n",
       "      <td>Orlando sentinel 9 19 2016</td>\n",
       "      <td>18</td>\n",
       "      <td>sep</td>\n",
       "      <td>16</td>\n",
       "      <td>09</td>\n",
       "    </tr>\n",
       "    <tr>\n",
       "      <th>2</th>\n",
       "      <td>2016 09 18 a</td>\n",
       "      <td>18 sep 16</td>\n",
       "      <td>2016</td>\n",
       "      <td>Unprovoked</td>\n",
       "      <td>Usa</td>\n",
       "      <td>Florida</td>\n",
       "      <td>New smyrna beach volusia county</td>\n",
       "      <td>Surfing</td>\n",
       "      <td>Male</td>\n",
       "      <td></td>\n",
       "      <td>43</td>\n",
       "      <td>Lacerations to lower leg</td>\n",
       "      <td>N</td>\n",
       "      <td>10h43</td>\n",
       "      <td>Unknown</td>\n",
       "      <td>Orlando sentinel 9 19 2016</td>\n",
       "      <td>18</td>\n",
       "      <td>sep</td>\n",
       "      <td>16</td>\n",
       "      <td>09</td>\n",
       "    </tr>\n",
       "    <tr>\n",
       "      <th>3</th>\n",
       "      <td>2016 09 17</td>\n",
       "      <td>17 sep 16</td>\n",
       "      <td>2016</td>\n",
       "      <td>Unprovoked</td>\n",
       "      <td>Australia</td>\n",
       "      <td>Victoria</td>\n",
       "      <td>Thirteenth beach</td>\n",
       "      <td>Surfing</td>\n",
       "      <td>Rory angiolella</td>\n",
       "      <td></td>\n",
       "      <td>Unknown</td>\n",
       "      <td>Struck by fin on chest  leg</td>\n",
       "      <td>N</td>\n",
       "      <td>Unknown</td>\n",
       "      <td>Unknown</td>\n",
       "      <td>The age 9 18 2016</td>\n",
       "      <td>17</td>\n",
       "      <td>sep</td>\n",
       "      <td>16</td>\n",
       "      <td>09</td>\n",
       "    </tr>\n",
       "    <tr>\n",
       "      <th>4</th>\n",
       "      <td>2016 09 15</td>\n",
       "      <td>16 sep 16</td>\n",
       "      <td>2016</td>\n",
       "      <td>Unprovoked</td>\n",
       "      <td>Australia</td>\n",
       "      <td>Victoria</td>\n",
       "      <td>Bells beach</td>\n",
       "      <td>Surfing</td>\n",
       "      <td>Male</td>\n",
       "      <td></td>\n",
       "      <td>Unknown</td>\n",
       "      <td>No injury</td>\n",
       "      <td>N</td>\n",
       "      <td>Unknown</td>\n",
       "      <td>2 m shark</td>\n",
       "      <td>The age 9 16 2016</td>\n",
       "      <td>16</td>\n",
       "      <td>sep</td>\n",
       "      <td>16</td>\n",
       "      <td>09</td>\n",
       "    </tr>\n",
       "    <tr>\n",
       "      <th>...</th>\n",
       "      <td>...</td>\n",
       "      <td>...</td>\n",
       "      <td>...</td>\n",
       "      <td>...</td>\n",
       "      <td>...</td>\n",
       "      <td>...</td>\n",
       "      <td>...</td>\n",
       "      <td>...</td>\n",
       "      <td>...</td>\n",
       "      <td>...</td>\n",
       "      <td>...</td>\n",
       "      <td>...</td>\n",
       "      <td>...</td>\n",
       "      <td>...</td>\n",
       "      <td>...</td>\n",
       "      <td>...</td>\n",
       "      <td>...</td>\n",
       "      <td>...</td>\n",
       "      <td>...</td>\n",
       "      <td>...</td>\n",
       "    </tr>\n",
       "    <tr>\n",
       "      <th>5987</th>\n",
       "      <td>Nd 0005</td>\n",
       "      <td>1903</td>\n",
       "      <td>0</td>\n",
       "      <td>Unprovoked</td>\n",
       "      <td>Australia</td>\n",
       "      <td>Western australia</td>\n",
       "      <td>Roebuck bay</td>\n",
       "      <td>Diving</td>\n",
       "      <td>Male</td>\n",
       "      <td></td>\n",
       "      <td>Unknown</td>\n",
       "      <td>Fatal</td>\n",
       "      <td>Y</td>\n",
       "      <td>Unknown</td>\n",
       "      <td>Unknown</td>\n",
       "      <td>H taunton n bartlett  p 234</td>\n",
       "      <td></td>\n",
       "      <td>1903</td>\n",
       "      <td>None</td>\n",
       "      <td>0005</td>\n",
       "    </tr>\n",
       "    <tr>\n",
       "      <th>5988</th>\n",
       "      <td>Nd 0004</td>\n",
       "      <td>1903</td>\n",
       "      <td>0</td>\n",
       "      <td>Unprovoked</td>\n",
       "      <td>Australia</td>\n",
       "      <td>Western australia</td>\n",
       "      <td>Unknown</td>\n",
       "      <td>Pearl diving</td>\n",
       "      <td>Ahmun</td>\n",
       "      <td></td>\n",
       "      <td>Unknown</td>\n",
       "      <td>Fatal</td>\n",
       "      <td>Y</td>\n",
       "      <td>Unknown</td>\n",
       "      <td>Unknown</td>\n",
       "      <td>H taunton n bartlett  pp 233 234</td>\n",
       "      <td></td>\n",
       "      <td>1903</td>\n",
       "      <td>None</td>\n",
       "      <td>0004</td>\n",
       "    </tr>\n",
       "    <tr>\n",
       "      <th>5989</th>\n",
       "      <td>Nd 0003</td>\n",
       "      <td>1900 1905</td>\n",
       "      <td>0</td>\n",
       "      <td>Unprovoked</td>\n",
       "      <td>Usa</td>\n",
       "      <td>North carolina</td>\n",
       "      <td>Ocracoke inlet</td>\n",
       "      <td>Swimming</td>\n",
       "      <td>Coast guard personnel</td>\n",
       "      <td></td>\n",
       "      <td>Unknown</td>\n",
       "      <td>Fatal</td>\n",
       "      <td>Y</td>\n",
       "      <td>Unknown</td>\n",
       "      <td>Unknown</td>\n",
       "      <td>F schwartz p 23 c creswell gsaf</td>\n",
       "      <td>1900</td>\n",
       "      <td>1905</td>\n",
       "      <td>None</td>\n",
       "      <td>0003</td>\n",
       "    </tr>\n",
       "    <tr>\n",
       "      <th>5990</th>\n",
       "      <td>Nd 0002</td>\n",
       "      <td>1883 1889</td>\n",
       "      <td>0</td>\n",
       "      <td>Unprovoked</td>\n",
       "      <td>Panama</td>\n",
       "      <td>Unknown</td>\n",
       "      <td>Panama bay 8 n 79 w</td>\n",
       "      <td>Unknown</td>\n",
       "      <td>Jules patterson</td>\n",
       "      <td></td>\n",
       "      <td>Unknown</td>\n",
       "      <td>Fatal</td>\n",
       "      <td>Y</td>\n",
       "      <td>Unknown</td>\n",
       "      <td>Unknown</td>\n",
       "      <td>The sun 10 20 1938</td>\n",
       "      <td>1883</td>\n",
       "      <td>1889</td>\n",
       "      <td>None</td>\n",
       "      <td>0002</td>\n",
       "    </tr>\n",
       "    <tr>\n",
       "      <th>5991</th>\n",
       "      <td>Nd 0001</td>\n",
       "      <td>1845 1853</td>\n",
       "      <td>0</td>\n",
       "      <td>Unprovoked</td>\n",
       "      <td>Ceylon sri lanka</td>\n",
       "      <td>Eastern province</td>\n",
       "      <td>Below the english fort trincomalee</td>\n",
       "      <td>Swimming</td>\n",
       "      <td>Male</td>\n",
       "      <td></td>\n",
       "      <td>15</td>\n",
       "      <td>Fatal</td>\n",
       "      <td>Y</td>\n",
       "      <td>Unknown</td>\n",
       "      <td>Unknown</td>\n",
       "      <td>S w baker</td>\n",
       "      <td>1845</td>\n",
       "      <td>1853</td>\n",
       "      <td>None</td>\n",
       "      <td>0001</td>\n",
       "    </tr>\n",
       "  </tbody>\n",
       "</table>\n",
       "<p>5992 rows × 20 columns</p>\n",
       "</div>"
      ],
      "text/plain": [
       "       Case_Number       Date  Year        Type            Country  \\\n",
       "0     2016 09 18 c  18 sep 16  2016  Unprovoked                Usa   \n",
       "1     2016 09 18 b  18 sep 16  2016  Unprovoked                Usa   \n",
       "2     2016 09 18 a  18 sep 16  2016  Unprovoked                Usa   \n",
       "3       2016 09 17  17 sep 16  2016  Unprovoked          Australia   \n",
       "4       2016 09 15  16 sep 16  2016  Unprovoked          Australia   \n",
       "...            ...        ...   ...         ...                ...   \n",
       "5987       Nd 0005       1903     0  Unprovoked          Australia   \n",
       "5988       Nd 0004       1903     0  Unprovoked          Australia   \n",
       "5989       Nd 0003  1900 1905     0  Unprovoked                Usa   \n",
       "5990       Nd 0002  1883 1889     0  Unprovoked             Panama   \n",
       "5991       Nd 0001  1845 1853     0  Unprovoked  Ceylon sri lanka    \n",
       "\n",
       "                   Area                            Location      Activity  \\\n",
       "0               Florida     New smyrna beach volusia county       Surfing   \n",
       "1               Florida     New smyrna beach volusia county       Surfing   \n",
       "2               Florida     New smyrna beach volusia county       Surfing   \n",
       "3              Victoria                    Thirteenth beach       Surfing   \n",
       "4              Victoria                         Bells beach       Surfing   \n",
       "...                 ...                                 ...           ...   \n",
       "5987  Western australia                         Roebuck bay        Diving   \n",
       "5988  Western australia                             Unknown  Pearl diving   \n",
       "5989     North carolina                      Ocracoke inlet      Swimming   \n",
       "5990            Unknown                 Panama bay 8 n 79 w       Unknown   \n",
       "5991   Eastern province  Below the english fort trincomalee      Swimming   \n",
       "\n",
       "                       Name Sex      Age                       Injury  \\\n",
       "0                      Male           16                 Minor injury   \n",
       "1            Chucky luciano           36         Lacerations to hands   \n",
       "2                      Male           43     Lacerations to lower leg   \n",
       "3           Rory angiolella      Unknown  Struck by fin on chest  leg   \n",
       "4                      Male      Unknown                    No injury   \n",
       "...                     ...  ..      ...                          ...   \n",
       "5987                   Male      Unknown                        Fatal   \n",
       "5988                  Ahmun      Unknown                        Fatal   \n",
       "5989  Coast guard personnel      Unknown                        Fatal   \n",
       "5990        Jules patterson      Unknown                        Fatal   \n",
       "5991                   Male           15                        Fatal   \n",
       "\n",
       "     Fatal (Y/N)     Time    Species            Investigator or Source  \\\n",
       "0              N    13h00    Unknown        Orlando sentinel 9 19 2016   \n",
       "1              N    11h00    Unknown        Orlando sentinel 9 19 2016   \n",
       "2              N    10h43    Unknown        Orlando sentinel 9 19 2016   \n",
       "3              N  Unknown    Unknown                 The age 9 18 2016   \n",
       "4              N  Unknown  2 m shark                 The age 9 16 2016   \n",
       "...          ...      ...        ...                               ...   \n",
       "5987           Y  Unknown    Unknown       H taunton n bartlett  p 234   \n",
       "5988           Y  Unknown    Unknown  H taunton n bartlett  pp 233 234   \n",
       "5989           Y  Unknown    Unknown   F schwartz p 23 c creswell gsaf   \n",
       "5990           Y  Unknown    Unknown                The sun 10 20 1938   \n",
       "5991           Y  Unknown    Unknown                         S w baker   \n",
       "\n",
       "     Year_Date Month_Date Date__Date Month  \n",
       "0           18        sep         16    09  \n",
       "1           18        sep         16    09  \n",
       "2           18        sep         16    09  \n",
       "3           17        sep         16    09  \n",
       "4           16        sep         16    09  \n",
       "...        ...        ...        ...   ...  \n",
       "5987                 1903       None  0005  \n",
       "5988                 1903       None  0004  \n",
       "5989      1900       1905       None  0003  \n",
       "5990      1883       1889       None  0002  \n",
       "5991      1845       1853       None  0001  \n",
       "\n",
       "[5992 rows x 20 columns]"
      ]
     },
     "execution_count": 26,
     "metadata": {},
     "output_type": "execute_result"
    }
   ],
   "source": [
    "#df[['Year','Month']] = df.Date.str.split(\" \",expand=True)\n",
    "df[['Year_Date','Month_Date','Date__Date']] = pd.DataFrame(df.Date.str.split(' ',2).tolist(),columns =['Y_D','M_D','D_D'])\n",
    "df[['Year_Case','Month','Date_Case','Case_Case']] = pd.DataFrame(df.Case_Number.str.split(' ',3).tolist(),columns =['Y_C','M_C','D_C','C_C'])\n",
    "\n",
    "drop_cols2=['Year_Case','Date_Case','Case_Case']\n",
    "df=df.drop(drop_cols2,axis=1)\n",
    "df"
   ]
  },
  {
   "cell_type": "code",
   "execution_count": 27,
   "metadata": {
    "ExecuteTime": {
     "end_time": "2020-02-05T23:04:47.054561Z",
     "start_time": "2020-02-05T23:04:42.019610Z"
    }
   },
   "outputs": [],
   "source": [
    "\n",
    "#df['Year'] = df['Year'].str.replace(\"0\",df['Date'])\n",
    "df['Year'].replace('0',df['Year_Date'],inplace=True)\n",
    "\n",
    "drop_cols3=['Year_Date','Month_Date','Date__Date']\n",
    "df=df.drop(drop_cols3,axis=1)"
   ]
  },
  {
   "cell_type": "code",
   "execution_count": 28,
   "metadata": {
    "ExecuteTime": {
     "end_time": "2020-02-05T23:04:47.060743Z",
     "start_time": "2020-02-05T23:04:47.056865Z"
    }
   },
   "outputs": [],
   "source": [
    "#pd.options.display.max_rows=None"
   ]
  },
  {
   "cell_type": "code",
   "execution_count": 103,
   "metadata": {
    "ExecuteTime": {
     "end_time": "2020-02-05T23:45:18.540833Z",
     "start_time": "2020-02-05T23:45:18.479590Z"
    }
   },
   "outputs": [],
   "source": [
    "df[['Hour','Minute']] = pd.DataFrame(df.Time.str.split('h',1).tolist(),columns =['hour','minute'])\n",
    "df['Hour'] = df['Hour'].str.capitalize()\n",
    "df['Hour'] = df['Hour'].apply(lambda x: beg_white(x)) \n",
    "df['Hour2'] = df['Hour'].str.capitalize()"
   ]
  },
  {
   "cell_type": "code",
   "execution_count": 104,
   "metadata": {
    "ExecuteTime": {
     "end_time": "2020-02-05T23:45:32.148232Z",
     "start_time": "2020-02-05T23:45:31.934182Z"
    }
   },
   "outputs": [],
   "source": [
    "\n",
    "df['Hour2'] = df['Hour2'].str.replace('00','Night')\n",
    "df['Hour2'] = df['Hour2'].str.replace('01','Night')\n",
    "df['Hour2'] = df['Hour2'].str.replace('02','Night')\n",
    "df['Hour2'] = df['Hour2'].str.replace('03','Night')\n",
    "df['Hour2'] = df['Hour2'].str.replace('04','Night')\n",
    "df['Hour2'] = df['Hour2'].str.replace('05','Morning')\n",
    "df['Hour2'] = df['Hour2'].str.replace('06','Morning')\n",
    "df['Hour2'] = df['Hour2'].str.replace('07','Morning')\n",
    "df['Hour2'] = df['Hour2'].str.replace('08','Morning')\n",
    "df['Hour2'] = df['Hour2'].str.replace('09','Morning')\n",
    "df['Hour2'] = df['Hour2'].str.replace('10','Morning')\n",
    "df['Hour2'] = df['Hour2'].str.replace('11','Noon')\n",
    "df['Hour2'] = df['Hour2'].str.replace('12','Noon')\n",
    "df['Hour2'] = df['Hour2'].str.replace('13','Noon')\n",
    "df['Hour2'] = df['Hour2'].str.replace('14','Noon')\n",
    "df['Hour2'] = df['Hour2'].str.replace('15','Afternoon')\n",
    "df['Hour2'] = df['Hour2'].str.replace('16','Afternoon')\n",
    "df['Hour2'] = df['Hour2'].str.replace('17','Afternoon')\n",
    "df['Hour2'] = df['Hour2'].str.replace('18','Afternoon')\n",
    "df['Hour2'] = df['Hour2'].str.replace('19','Evening')\n",
    "df['Hour2'] = df['Hour2'].str.replace('20','Evening')\n",
    "df['Hour2'] = df['Hour2'].str.replace('21','Evening')\n",
    "df['Hour2'] = df['Hour2'].str.replace('22','Evening')\n",
    "df['Hour2'] = df['Hour2'].str.replace('23','Evening')"
   ]
  },
  {
   "cell_type": "code",
   "execution_count": null,
   "metadata": {
    "ExecuteTime": {
     "end_time": "2020-02-05T23:04:47.557330Z",
     "start_time": "2020-02-05T23:04:34.853Z"
    }
   },
   "outputs": [],
   "source": [
    "#df.loc[(value(df['cylinders'])==0) & (df['displ']!=0),'cylinders']=4"
   ]
  },
  {
   "cell_type": "code",
   "execution_count": 84,
   "metadata": {
    "ExecuteTime": {
     "end_time": "2020-02-05T23:36:10.573316Z",
     "start_time": "2020-02-05T23:36:10.525346Z"
    }
   },
   "outputs": [
    {
     "data": {
      "text/html": [
       "<div>\n",
       "<style scoped>\n",
       "    .dataframe tbody tr th:only-of-type {\n",
       "        vertical-align: middle;\n",
       "    }\n",
       "\n",
       "    .dataframe tbody tr th {\n",
       "        vertical-align: top;\n",
       "    }\n",
       "\n",
       "    .dataframe thead th {\n",
       "        text-align: right;\n",
       "    }\n",
       "</style>\n",
       "<table border=\"1\" class=\"dataframe\">\n",
       "  <thead>\n",
       "    <tr style=\"text-align: right;\">\n",
       "      <th></th>\n",
       "      <th>Case_Number</th>\n",
       "      <th>Date</th>\n",
       "      <th>Year</th>\n",
       "      <th>Type</th>\n",
       "      <th>Country</th>\n",
       "      <th>Area</th>\n",
       "      <th>Location</th>\n",
       "      <th>Activity</th>\n",
       "      <th>Name</th>\n",
       "      <th>Sex</th>\n",
       "      <th>Age</th>\n",
       "      <th>Injury</th>\n",
       "      <th>Fatal (Y/N)</th>\n",
       "      <th>Time</th>\n",
       "      <th>Species</th>\n",
       "      <th>Investigator or Source</th>\n",
       "      <th>Month</th>\n",
       "      <th>Hour</th>\n",
       "      <th>Minute</th>\n",
       "      <th>Time_day</th>\n",
       "    </tr>\n",
       "  </thead>\n",
       "  <tbody>\n",
       "    <tr>\n",
       "      <th>0</th>\n",
       "      <td>2016 09 18 c</td>\n",
       "      <td>18 sep 16</td>\n",
       "      <td>2016</td>\n",
       "      <td>Unprovoked</td>\n",
       "      <td>Usa</td>\n",
       "      <td>Florida</td>\n",
       "      <td>New smyrna beach volusia county</td>\n",
       "      <td>Surfing</td>\n",
       "      <td>Male</td>\n",
       "      <td></td>\n",
       "      <td>16</td>\n",
       "      <td>Minor injury</td>\n",
       "      <td>N</td>\n",
       "      <td>13h00</td>\n",
       "      <td>Unknown</td>\n",
       "      <td>Orlando sentinel 9 19 2016</td>\n",
       "      <td>09</td>\n",
       "      <td>13</td>\n",
       "      <td>00</td>\n",
       "      <td>Noon</td>\n",
       "    </tr>\n",
       "    <tr>\n",
       "      <th>1</th>\n",
       "      <td>2016 09 18 b</td>\n",
       "      <td>18 sep 16</td>\n",
       "      <td>2016</td>\n",
       "      <td>Unprovoked</td>\n",
       "      <td>Usa</td>\n",
       "      <td>Florida</td>\n",
       "      <td>New smyrna beach volusia county</td>\n",
       "      <td>Surfing</td>\n",
       "      <td>Chucky luciano</td>\n",
       "      <td></td>\n",
       "      <td>36</td>\n",
       "      <td>Lacerations to hands</td>\n",
       "      <td>N</td>\n",
       "      <td>11h00</td>\n",
       "      <td>Unknown</td>\n",
       "      <td>Orlando sentinel 9 19 2016</td>\n",
       "      <td>09</td>\n",
       "      <td>11</td>\n",
       "      <td>00</td>\n",
       "      <td>Noon</td>\n",
       "    </tr>\n",
       "    <tr>\n",
       "      <th>2</th>\n",
       "      <td>2016 09 18 a</td>\n",
       "      <td>18 sep 16</td>\n",
       "      <td>2016</td>\n",
       "      <td>Unprovoked</td>\n",
       "      <td>Usa</td>\n",
       "      <td>Florida</td>\n",
       "      <td>New smyrna beach volusia county</td>\n",
       "      <td>Surfing</td>\n",
       "      <td>Male</td>\n",
       "      <td></td>\n",
       "      <td>43</td>\n",
       "      <td>Lacerations to lower leg</td>\n",
       "      <td>N</td>\n",
       "      <td>10h43</td>\n",
       "      <td>Unknown</td>\n",
       "      <td>Orlando sentinel 9 19 2016</td>\n",
       "      <td>09</td>\n",
       "      <td>10</td>\n",
       "      <td>43</td>\n",
       "      <td>Morning</td>\n",
       "    </tr>\n",
       "    <tr>\n",
       "      <th>3</th>\n",
       "      <td>2016 09 17</td>\n",
       "      <td>17 sep 16</td>\n",
       "      <td>2016</td>\n",
       "      <td>Unprovoked</td>\n",
       "      <td>Australia</td>\n",
       "      <td>Victoria</td>\n",
       "      <td>Thirteenth beach</td>\n",
       "      <td>Surfing</td>\n",
       "      <td>Rory angiolella</td>\n",
       "      <td></td>\n",
       "      <td>Unknown</td>\n",
       "      <td>Struck by fin on chest  leg</td>\n",
       "      <td>N</td>\n",
       "      <td>Unknown</td>\n",
       "      <td>Unknown</td>\n",
       "      <td>The age 9 18 2016</td>\n",
       "      <td>09</td>\n",
       "      <td>Unknown</td>\n",
       "      <td>None</td>\n",
       "      <td>NaN</td>\n",
       "    </tr>\n",
       "    <tr>\n",
       "      <th>4</th>\n",
       "      <td>2016 09 15</td>\n",
       "      <td>16 sep 16</td>\n",
       "      <td>2016</td>\n",
       "      <td>Unprovoked</td>\n",
       "      <td>Australia</td>\n",
       "      <td>Victoria</td>\n",
       "      <td>Bells beach</td>\n",
       "      <td>Surfing</td>\n",
       "      <td>Male</td>\n",
       "      <td></td>\n",
       "      <td>Unknown</td>\n",
       "      <td>No injury</td>\n",
       "      <td>N</td>\n",
       "      <td>Unknown</td>\n",
       "      <td>2 m shark</td>\n",
       "      <td>The age 9 16 2016</td>\n",
       "      <td>09</td>\n",
       "      <td>Unknown</td>\n",
       "      <td>None</td>\n",
       "      <td>NaN</td>\n",
       "    </tr>\n",
       "    <tr>\n",
       "      <th>5</th>\n",
       "      <td>2016 09 15 r</td>\n",
       "      <td>15 sep 16</td>\n",
       "      <td>2016</td>\n",
       "      <td>Boat</td>\n",
       "      <td>Australia</td>\n",
       "      <td>Western australia</td>\n",
       "      <td>Bunbury</td>\n",
       "      <td>Fishing</td>\n",
       "      <td>Occupant ben stratton</td>\n",
       "      <td></td>\n",
       "      <td>Unknown</td>\n",
       "      <td>Shark rammed boat no injury to occupant</td>\n",
       "      <td>N</td>\n",
       "      <td>Unknown</td>\n",
       "      <td>Unknown</td>\n",
       "      <td>West australian 9 15 2016</td>\n",
       "      <td>09</td>\n",
       "      <td>Unknown</td>\n",
       "      <td>None</td>\n",
       "      <td>NaN</td>\n",
       "    </tr>\n",
       "    <tr>\n",
       "      <th>6</th>\n",
       "      <td>2016 09 11</td>\n",
       "      <td>11 sep 16</td>\n",
       "      <td>2016</td>\n",
       "      <td>Unprovoked</td>\n",
       "      <td>Usa</td>\n",
       "      <td>Florida</td>\n",
       "      <td>Ponte vedra st johns county</td>\n",
       "      <td>Wading</td>\n",
       "      <td>Male</td>\n",
       "      <td></td>\n",
       "      <td>60s</td>\n",
       "      <td>Minor injury</td>\n",
       "      <td>N</td>\n",
       "      <td>15h15</td>\n",
       "      <td>3 to 4 shark</td>\n",
       "      <td>News4jax 9 11 2016</td>\n",
       "      <td>09</td>\n",
       "      <td>15</td>\n",
       "      <td>15</td>\n",
       "      <td>Afternoon</td>\n",
       "    </tr>\n",
       "    <tr>\n",
       "      <th>7</th>\n",
       "      <td>2016 09 07</td>\n",
       "      <td>07 sep 16</td>\n",
       "      <td>2016</td>\n",
       "      <td>Unprovoked</td>\n",
       "      <td>Usa</td>\n",
       "      <td>Hawaii</td>\n",
       "      <td>Makaha oahu</td>\n",
       "      <td>Swimming</td>\n",
       "      <td>Female</td>\n",
       "      <td></td>\n",
       "      <td>51</td>\n",
       "      <td>Severe lacerations to shoulder  forearm</td>\n",
       "      <td>N</td>\n",
       "      <td>14h30</td>\n",
       "      <td>Tiger shark</td>\n",
       "      <td>Hawaii news now 9 7 2016</td>\n",
       "      <td>09</td>\n",
       "      <td>14</td>\n",
       "      <td>30</td>\n",
       "      <td>Noon</td>\n",
       "    </tr>\n",
       "    <tr>\n",
       "      <th>8</th>\n",
       "      <td>2016 09 06</td>\n",
       "      <td>06 sep 16</td>\n",
       "      <td>2016</td>\n",
       "      <td>Unprovoked</td>\n",
       "      <td>New caledonia</td>\n",
       "      <td>North province</td>\n",
       "      <td>Koumac</td>\n",
       "      <td>Kite surfing</td>\n",
       "      <td>David jewell</td>\n",
       "      <td></td>\n",
       "      <td>50</td>\n",
       "      <td>Fatal</td>\n",
       "      <td>Y</td>\n",
       "      <td>15h40</td>\n",
       "      <td>Unknown</td>\n",
       "      <td>Tvanouvelles 9 6 2016</td>\n",
       "      <td>09</td>\n",
       "      <td>15</td>\n",
       "      <td>40</td>\n",
       "      <td>Afternoon</td>\n",
       "    </tr>\n",
       "    <tr>\n",
       "      <th>9</th>\n",
       "      <td>2016 09 05 b</td>\n",
       "      <td>05 sep 16</td>\n",
       "      <td>2016</td>\n",
       "      <td>Unprovoked</td>\n",
       "      <td>Usa</td>\n",
       "      <td>South carolina</td>\n",
       "      <td>Kingston plantation myrtle beach horry county</td>\n",
       "      <td>Boogie boarding</td>\n",
       "      <td>Rylie williams</td>\n",
       "      <td></td>\n",
       "      <td>12</td>\n",
       "      <td>Lacerations  punctures to lower right leg</td>\n",
       "      <td>N</td>\n",
       "      <td>afternoon</td>\n",
       "      <td>Unknown</td>\n",
       "      <td>C creswell gsaf</td>\n",
       "      <td>09</td>\n",
       "      <td>afternoon</td>\n",
       "      <td>None</td>\n",
       "      <td>NaN</td>\n",
       "    </tr>\n",
       "  </tbody>\n",
       "</table>\n",
       "</div>"
      ],
      "text/plain": [
       "    Case_Number       Date  Year        Type        Country  \\\n",
       "0  2016 09 18 c  18 sep 16  2016  Unprovoked            Usa   \n",
       "1  2016 09 18 b  18 sep 16  2016  Unprovoked            Usa   \n",
       "2  2016 09 18 a  18 sep 16  2016  Unprovoked            Usa   \n",
       "3    2016 09 17  17 sep 16  2016  Unprovoked      Australia   \n",
       "4    2016 09 15  16 sep 16  2016  Unprovoked      Australia   \n",
       "5  2016 09 15 r  15 sep 16  2016        Boat      Australia   \n",
       "6    2016 09 11  11 sep 16  2016  Unprovoked            Usa   \n",
       "7    2016 09 07  07 sep 16  2016  Unprovoked            Usa   \n",
       "8    2016 09 06  06 sep 16  2016  Unprovoked  New caledonia   \n",
       "9  2016 09 05 b  05 sep 16  2016  Unprovoked            Usa   \n",
       "\n",
       "                Area                                       Location  \\\n",
       "0            Florida                New smyrna beach volusia county   \n",
       "1            Florida                New smyrna beach volusia county   \n",
       "2            Florida                New smyrna beach volusia county   \n",
       "3           Victoria                               Thirteenth beach   \n",
       "4           Victoria                                    Bells beach   \n",
       "5  Western australia                                        Bunbury   \n",
       "6            Florida                    Ponte vedra st johns county   \n",
       "7             Hawaii                                    Makaha oahu   \n",
       "8     North province                                         Koumac   \n",
       "9     South carolina  Kingston plantation myrtle beach horry county   \n",
       "\n",
       "          Activity                   Name Sex      Age  \\\n",
       "0          Surfing                   Male           16   \n",
       "1          Surfing         Chucky luciano           36   \n",
       "2          Surfing                   Male           43   \n",
       "3          Surfing        Rory angiolella      Unknown   \n",
       "4          Surfing                   Male      Unknown   \n",
       "5          Fishing  Occupant ben stratton      Unknown   \n",
       "6           Wading                   Male          60s   \n",
       "7         Swimming                 Female           51   \n",
       "8     Kite surfing           David jewell           50   \n",
       "9  Boogie boarding         Rylie williams           12   \n",
       "\n",
       "                                      Injury Fatal (Y/N)        Time  \\\n",
       "0                               Minor injury           N       13h00   \n",
       "1                       Lacerations to hands           N       11h00   \n",
       "2                   Lacerations to lower leg           N       10h43   \n",
       "3                Struck by fin on chest  leg           N     Unknown   \n",
       "4                                  No injury           N     Unknown   \n",
       "5    Shark rammed boat no injury to occupant           N     Unknown   \n",
       "6                               Minor injury           N       15h15   \n",
       "7    Severe lacerations to shoulder  forearm           N       14h30   \n",
       "8                                      Fatal           Y       15h40   \n",
       "9  Lacerations  punctures to lower right leg           N   afternoon   \n",
       "\n",
       "        Species      Investigator or Source Month       Hour Minute   Time_day  \n",
       "0       Unknown  Orlando sentinel 9 19 2016    09         13     00       Noon  \n",
       "1       Unknown  Orlando sentinel 9 19 2016    09         11     00       Noon  \n",
       "2       Unknown  Orlando sentinel 9 19 2016    09         10     43    Morning  \n",
       "3       Unknown           The age 9 18 2016    09    Unknown   None        NaN  \n",
       "4     2 m shark           The age 9 16 2016    09    Unknown   None        NaN  \n",
       "5       Unknown   West australian 9 15 2016    09    Unknown   None        NaN  \n",
       "6  3 to 4 shark          News4jax 9 11 2016    09         15     15  Afternoon  \n",
       "7   Tiger shark    Hawaii news now 9 7 2016    09         14     30       Noon  \n",
       "8       Unknown       Tvanouvelles 9 6 2016    09         15     40  Afternoon  \n",
       "9       Unknown             C creswell gsaf    09  afternoon   None        NaN  "
      ]
     },
     "execution_count": 84,
     "metadata": {},
     "output_type": "execute_result"
    }
   ],
   "source": [
    "df.head(10)"
   ]
  },
  {
   "cell_type": "code",
   "execution_count": null,
   "metadata": {
    "ExecuteTime": {
     "end_time": "2020-02-05T23:04:47.559864Z",
     "start_time": "2020-02-05T23:04:34.872Z"
    }
   },
   "outputs": [],
   "source": [
    "#pd.options.display.max_rows=None\n",
    "#df\n",
    "pd.value_counts(df['Month'])"
   ]
  },
  {
   "cell_type": "code",
   "execution_count": null,
   "metadata": {
    "ExecuteTime": {
     "end_time": "2020-02-05T23:04:47.561337Z",
     "start_time": "2020-02-05T23:04:34.882Z"
    }
   },
   "outputs": [],
   "source": [
    "\n",
    "#df[column].str.len()>2"
   ]
  },
  {
   "cell_type": "code",
   "execution_count": 85,
   "metadata": {
    "ExecuteTime": {
     "end_time": "2020-02-05T23:36:28.452253Z",
     "start_time": "2020-02-05T23:36:28.291623Z"
    }
   },
   "outputs": [],
   "source": [
    "columns=['Month']\n",
    "\n",
    "for column in columns:\n",
    "    df.loc[(df[column].str.len()>2)|(df[column]=='00') ,column]='Unknown'\n",
    "    df[column] = df[column].str.replace(\"01\",\"January\")\n",
    "    df[column] = df[column].str.replace(\"02\",\"February\")\n",
    "    df[column] = df[column].str.replace(\"03\",\"March\")\n",
    "    df[column] = df[column].str.replace(\"04\",\"April\")\n",
    "    df[column] = df[column].str.replace(\"05\",\"May\")\n",
    "    df[column] = df[column].str.replace(\"06\",\"June\")\n",
    "    df[column] = df[column].str.replace(\"07\",\"July\")\n",
    "    df[column] = df[column].str.replace(\"08\",\"August\")\n",
    "    df[column] = df[column].str.replace(\"09\",\"Septembrer\")\n",
    "    df[column] = df[column].str.replace(\"10\",\"October\")\n",
    "    df[column] = df[column].str.replace(\"11\",\"November\")\n",
    "    df[column] = df[column].str.replace(\"12\",\"December\")\n"
   ]
  },
  {
   "cell_type": "code",
   "execution_count": 86,
   "metadata": {
    "ExecuteTime": {
     "end_time": "2020-02-05T23:36:33.617064Z",
     "start_time": "2020-02-05T23:36:33.602763Z"
    }
   },
   "outputs": [
    {
     "data": {
      "text/plain": [
       "July          634\n",
       "August        580\n",
       "Septembrer    524\n",
       "Unknown       522\n",
       "January       500\n",
       "June          474\n",
       "December      423\n",
       "April         410\n",
       "October       407\n",
       "March         398\n",
       "November      393\n",
       "May           368\n",
       "February      359\n",
       "Name: Month, dtype: int64"
      ]
     },
     "execution_count": 86,
     "metadata": {},
     "output_type": "execute_result"
    }
   ],
   "source": [
    "pd.value_counts(df['Month'])"
   ]
  },
  {
   "cell_type": "code",
   "execution_count": null,
   "metadata": {
    "ExecuteTime": {
     "end_time": "2020-02-05T23:04:47.567823Z",
     "start_time": "2020-02-05T23:04:34.913Z"
    }
   },
   "outputs": [],
   "source": [
    "pd.value_counts(df['Year'])"
   ]
  },
  {
   "cell_type": "code",
   "execution_count": 105,
   "metadata": {
    "ExecuteTime": {
     "end_time": "2020-02-05T23:45:39.441522Z",
     "start_time": "2020-02-05T23:45:39.423711Z"
    }
   },
   "outputs": [
    {
     "data": {
      "text/plain": [
       "Unknown                                              3213\n",
       "Noon                                                 1041\n",
       "Afternoon                                             798\n",
       "Morning                                               609\n",
       "Evening                                               129\n",
       "Nig                                                    66\n",
       "Night                                                  27\n",
       "Dusk                                                   18\n",
       "P m                                                    12\n",
       "A m                                                    12\n",
       "                                                       10\n",
       "Day                                                     9\n",
       "Sunset                                                  4\n",
       "S                                                       4\n",
       "AfternoonNight                                          3\n",
       "Dark                                                    2\n",
       "Dawn                                                    2\n",
       "Just before noon                                        2\n",
       "Am                                                      2\n",
       "Daybreak                                                2\n",
       "2                                                       2\n",
       "Lunc                                                    2\n",
       "Afternon                                                2\n",
       "MorningjNight                                           1\n",
       "830                                                     1\n",
       "30 minutes after Evening92 Morning Morning a            1\n",
       "Sometime between Morning                                1\n",
       "Dark                                                    1\n",
       "X                                                       1\n",
       "NoonNight                                               1\n",
       "Prior to Morning                                        1\n",
       "Evening                                                 1\n",
       "Just after Noon                                         1\n",
       "Just before sundown                                     1\n",
       "Just before dawn                                        1\n",
       "Fatal  wire netting installed at local beac             1\n",
       "Midnig                                                  1\n",
       "Just before Noon                                        1\n",
       "5Night                                                  1\n",
       "Daytime                                                 1\n",
       "Possibly same incident as 2Night0 Morning Evening       1\n",
       "Day                                                     1\n",
       "8 Night pm                                              1\n",
       "Afternoonj45                                            1\n",
       "Name: Hour2, dtype: int64"
      ]
     },
     "execution_count": 105,
     "metadata": {},
     "output_type": "execute_result"
    }
   ],
   "source": [
    "pd.value_counts(df['Hour2'])"
   ]
  },
  {
   "cell_type": "code",
   "execution_count": 110,
   "metadata": {
    "ExecuteTime": {
     "end_time": "2020-02-05T23:48:39.268694Z",
     "start_time": "2020-02-05T23:48:39.234200Z"
    }
   },
   "outputs": [
    {
     "data": {
      "text/html": [
       "<div>\n",
       "<style scoped>\n",
       "    .dataframe tbody tr th:only-of-type {\n",
       "        vertical-align: middle;\n",
       "    }\n",
       "\n",
       "    .dataframe tbody tr th {\n",
       "        vertical-align: top;\n",
       "    }\n",
       "\n",
       "    .dataframe thead th {\n",
       "        text-align: right;\n",
       "    }\n",
       "</style>\n",
       "<table border=\"1\" class=\"dataframe\">\n",
       "  <thead>\n",
       "    <tr style=\"text-align: right;\">\n",
       "      <th></th>\n",
       "      <th>Country</th>\n",
       "      <th>Case_Number</th>\n",
       "    </tr>\n",
       "  </thead>\n",
       "  <tbody>\n",
       "    <tr>\n",
       "      <th>184</th>\n",
       "      <td>Usa</td>\n",
       "      <td>2116</td>\n",
       "    </tr>\n",
       "    <tr>\n",
       "      <th>10</th>\n",
       "      <td>Australia</td>\n",
       "      <td>1279</td>\n",
       "    </tr>\n",
       "    <tr>\n",
       "      <th>153</th>\n",
       "      <td>South africa</td>\n",
       "      <td>565</td>\n",
       "    </tr>\n",
       "    <tr>\n",
       "      <th>131</th>\n",
       "      <td>Papua new guinea</td>\n",
       "      <td>133</td>\n",
       "    </tr>\n",
       "    <tr>\n",
       "      <th>113</th>\n",
       "      <td>New zealand</td>\n",
       "      <td>125</td>\n",
       "    </tr>\n",
       "    <tr>\n",
       "      <th>20</th>\n",
       "      <td>Brazil</td>\n",
       "      <td>102</td>\n",
       "    </tr>\n",
       "    <tr>\n",
       "      <th>12</th>\n",
       "      <td>Bahamas</td>\n",
       "      <td>98</td>\n",
       "    </tr>\n",
       "    <tr>\n",
       "      <th>100</th>\n",
       "      <td>Mexico</td>\n",
       "      <td>82</td>\n",
       "    </tr>\n",
       "    <tr>\n",
       "      <th>78</th>\n",
       "      <td>Italy</td>\n",
       "      <td>72</td>\n",
       "    </tr>\n",
       "    <tr>\n",
       "      <th>53</th>\n",
       "      <td>Fiji</td>\n",
       "      <td>65</td>\n",
       "    </tr>\n",
       "  </tbody>\n",
       "</table>\n",
       "</div>"
      ],
      "text/plain": [
       "              Country  Case_Number\n",
       "184               Usa         2116\n",
       "10          Australia         1279\n",
       "153      South africa          565\n",
       "131  Papua new guinea          133\n",
       "113       New zealand          125\n",
       "20             Brazil          102\n",
       "12            Bahamas           98\n",
       "100            Mexico           82\n",
       "78              Italy           72\n",
       "53               Fiji           65"
      ]
     },
     "execution_count": 110,
     "metadata": {},
     "output_type": "execute_result"
    }
   ],
   "source": [
    "countries = df.groupby('Country', as_index=False)['Case_Number'].count()\n",
    "countries.sort_values(by=['Case_Number'], ascending=False).head(10)"
   ]
  },
  {
   "cell_type": "code",
   "execution_count": 111,
   "metadata": {
    "ExecuteTime": {
     "end_time": "2020-02-05T23:49:21.803148Z",
     "start_time": "2020-02-05T23:49:21.775640Z"
    }
   },
   "outputs": [
    {
     "data": {
      "text/html": [
       "<div>\n",
       "<style scoped>\n",
       "    .dataframe tbody tr th:only-of-type {\n",
       "        vertical-align: middle;\n",
       "    }\n",
       "\n",
       "    .dataframe tbody tr th {\n",
       "        vertical-align: top;\n",
       "    }\n",
       "\n",
       "    .dataframe thead th {\n",
       "        text-align: right;\n",
       "    }\n",
       "</style>\n",
       "<table border=\"1\" class=\"dataframe\">\n",
       "  <thead>\n",
       "    <tr style=\"text-align: right;\">\n",
       "      <th></th>\n",
       "      <th>Activity</th>\n",
       "      <th>Case_Number</th>\n",
       "    </tr>\n",
       "  </thead>\n",
       "  <tbody>\n",
       "    <tr>\n",
       "      <th>713</th>\n",
       "      <td>Swimming</td>\n",
       "      <td>1019</td>\n",
       "    </tr>\n",
       "    <tr>\n",
       "      <th>706</th>\n",
       "      <td>Surfing</td>\n",
       "      <td>944</td>\n",
       "    </tr>\n",
       "    <tr>\n",
       "      <th>294</th>\n",
       "      <td>Fishing</td>\n",
       "      <td>594</td>\n",
       "    </tr>\n",
       "    <tr>\n",
       "      <th>783</th>\n",
       "      <td>Unknown</td>\n",
       "      <td>532</td>\n",
       "    </tr>\n",
       "    <tr>\n",
       "      <th>676</th>\n",
       "      <td>Spearfishing</td>\n",
       "      <td>394</td>\n",
       "    </tr>\n",
       "    <tr>\n",
       "      <th>237</th>\n",
       "      <td>Diving</td>\n",
       "      <td>216</td>\n",
       "    </tr>\n",
       "    <tr>\n",
       "      <th>102</th>\n",
       "      <td>Bathing</td>\n",
       "      <td>174</td>\n",
       "    </tr>\n",
       "    <tr>\n",
       "      <th>791</th>\n",
       "      <td>Wading</td>\n",
       "      <td>161</td>\n",
       "    </tr>\n",
       "    <tr>\n",
       "      <th>690</th>\n",
       "      <td>Standing</td>\n",
       "      <td>128</td>\n",
       "    </tr>\n",
       "    <tr>\n",
       "      <th>609</th>\n",
       "      <td>Scuba diving</td>\n",
       "      <td>113</td>\n",
       "    </tr>\n",
       "  </tbody>\n",
       "</table>\n",
       "</div>"
      ],
      "text/plain": [
       "         Activity  Case_Number\n",
       "713      Swimming         1019\n",
       "706       Surfing          944\n",
       "294       Fishing          594\n",
       "783       Unknown          532\n",
       "676  Spearfishing          394\n",
       "237        Diving          216\n",
       "102       Bathing          174\n",
       "791        Wading          161\n",
       "690      Standing          128\n",
       "609  Scuba diving          113"
      ]
     },
     "execution_count": 111,
     "metadata": {},
     "output_type": "execute_result"
    }
   ],
   "source": [
    "Activity = df.groupby('Activity', as_index=False)['Case_Number'].count()\n",
    "Activity.sort_values(by=['Case_Number'], ascending=False).head(10)"
   ]
  },
  {
   "cell_type": "code",
   "execution_count": null,
   "metadata": {},
   "outputs": [],
   "source": []
  }
 ],
 "metadata": {
  "kernelspec": {
   "display_name": "Python 3",
   "language": "python",
   "name": "python3"
  },
  "language_info": {
   "codemirror_mode": {
    "name": "ipython",
    "version": 3
   },
   "file_extension": ".py",
   "mimetype": "text/x-python",
   "name": "python",
   "nbconvert_exporter": "python",
   "pygments_lexer": "ipython3",
   "version": "3.7.4"
  },
  "varInspector": {
   "cols": {
    "lenName": 16,
    "lenType": 16,
    "lenVar": 40
   },
   "kernels_config": {
    "python": {
     "delete_cmd_postfix": "",
     "delete_cmd_prefix": "del ",
     "library": "var_list.py",
     "varRefreshCmd": "print(var_dic_list())"
    },
    "r": {
     "delete_cmd_postfix": ") ",
     "delete_cmd_prefix": "rm(",
     "library": "var_list.r",
     "varRefreshCmd": "cat(var_dic_list()) "
    }
   },
   "types_to_exclude": [
    "module",
    "function",
    "builtin_function_or_method",
    "instance",
    "_Feature"
   ],
   "window_display": false
  }
 },
 "nbformat": 4,
 "nbformat_minor": 2
}
