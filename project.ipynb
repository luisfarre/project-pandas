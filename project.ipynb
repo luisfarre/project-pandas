{
 "cells": [
  {
   "cell_type": "code",
   "execution_count": 48,
   "metadata": {
    "ExecuteTime": {
     "end_time": "2020-02-06T20:03:29.453593Z",
     "start_time": "2020-02-06T20:03:29.212845Z"
    }
   },
   "outputs": [],
   "source": [
    "import pandas as pd\n",
    "import numpy as np\n",
    "import re\n",
    "import matplotlib.pyplot as plt"
   ]
  },
  {
   "cell_type": "code",
   "execution_count": 2,
   "metadata": {
    "ExecuteTime": {
     "end_time": "2020-02-06T19:49:58.641642Z",
     "start_time": "2020-02-06T19:49:58.400693Z"
    }
   },
   "outputs": [],
   "source": [
    "df=pd.read_csv('GSAF5.csv',sep=',', engine='python')"
   ]
  },
  {
   "cell_type": "code",
   "execution_count": 3,
   "metadata": {
    "ExecuteTime": {
     "end_time": "2020-02-06T19:49:58.659623Z",
     "start_time": "2020-02-06T19:49:58.645671Z"
    }
   },
   "outputs": [
    {
     "data": {
      "text/plain": [
       "(5992, 24)"
      ]
     },
     "execution_count": 3,
     "metadata": {},
     "output_type": "execute_result"
    }
   ],
   "source": [
    "'''Vemos el tamaño del dataset'''\n",
    "df.shape"
   ]
  },
  {
   "cell_type": "code",
   "execution_count": 4,
   "metadata": {
    "ExecuteTime": {
     "end_time": "2020-02-06T19:49:58.682215Z",
     "start_time": "2020-02-06T19:49:58.661853Z"
    }
   },
   "outputs": [
    {
     "name": "stdout",
     "output_type": "stream",
     "text": [
      "<class 'pandas.core.frame.DataFrame'>\n",
      "RangeIndex: 5992 entries, 0 to 5991\n",
      "Data columns (total 24 columns):\n",
      "Case Number               5992 non-null object\n",
      "Date                      5992 non-null object\n",
      "Year                      5992 non-null int64\n",
      "Type                      5992 non-null object\n",
      "Country                   5949 non-null object\n",
      "Area                      5590 non-null object\n",
      "Location                  5496 non-null object\n",
      "Activity                  5465 non-null object\n",
      "Name                      5792 non-null object\n",
      "Sex                       5425 non-null object\n",
      "Age                       3311 non-null object\n",
      "Injury                    5965 non-null object\n",
      "Fatal (Y/N)               5973 non-null object\n",
      "Time                      2779 non-null object\n",
      "Species                   3058 non-null object\n",
      "Investigator or Source    5977 non-null object\n",
      "pdf                       5992 non-null object\n",
      "href formula              5991 non-null object\n",
      "href                      5989 non-null object\n",
      "Case Number.1             5992 non-null object\n",
      "Case Number.2             5992 non-null object\n",
      "original order            5992 non-null int64\n",
      "Unnamed: 22               1 non-null object\n",
      "Unnamed: 23               2 non-null object\n",
      "dtypes: int64(2), object(22)\n",
      "memory usage: 1.1+ MB\n"
     ]
    }
   ],
   "source": [
    "'''Vemos la informacion de la tabla para entender los nombres de las columnas y el data type de cada una de ellas'''\n",
    "df.info()"
   ]
  },
  {
   "cell_type": "code",
   "execution_count": null,
   "metadata": {},
   "outputs": [],
   "source": []
  },
  {
   "cell_type": "code",
   "execution_count": 5,
   "metadata": {
    "ExecuteTime": {
     "end_time": "2020-02-06T19:49:58.700973Z",
     "start_time": "2020-02-06T19:49:58.684297Z"
    }
   },
   "outputs": [
    {
     "data": {
      "text/plain": [
       "Country                     43\n",
       "Area                       402\n",
       "Location                   496\n",
       "Activity                   527\n",
       "Name                       200\n",
       "Sex                        567\n",
       "Age                       2681\n",
       "Injury                      27\n",
       "Fatal (Y/N)                 19\n",
       "Time                      3213\n",
       "Species                   2934\n",
       "Investigator or Source      15\n",
       "href formula                 1\n",
       "href                         3\n",
       "Unnamed: 22               5991\n",
       "Unnamed: 23               5990\n",
       "dtype: int64"
      ]
     },
     "execution_count": 5,
     "metadata": {},
     "output_type": "execute_result"
    }
   ],
   "source": [
    "'''Miramos cuales son aquellas columnas que tienen mayor cantidad de valores nulos'''\n",
    "null_cols=df.isnull().sum()\n",
    "null_cols[null_cols>0]"
   ]
  },
  {
   "cell_type": "code",
   "execution_count": 6,
   "metadata": {
    "ExecuteTime": {
     "end_time": "2020-02-06T19:49:58.713699Z",
     "start_time": "2020-02-06T19:49:58.702808Z"
    }
   },
   "outputs": [
    {
     "data": {
      "text/plain": [
       "Index(['Case Number', 'Date', 'Year', 'Type', 'Country', 'Area', 'Location',\n",
       "       'Activity', 'Name', 'Sex ', 'Age', 'Injury', 'Fatal (Y/N)', 'Time',\n",
       "       'Species ', 'Investigator or Source', 'pdf', 'href formula', 'href',\n",
       "       'Case Number.1', 'Case Number.2', 'original order'],\n",
       "      dtype='object')"
      ]
     },
     "execution_count": 6,
     "metadata": {},
     "output_type": "execute_result"
    }
   ],
   "source": [
    "'''Podemos ver que las columnas Unnamed: 22 y Unnamed: 23 solo tienen 1 y 2 datos. \n",
    "Los consideramos un error asi que los borramos. \n",
    "Una manera de hacerlo es indicando que borremos aquellas columnas con mas de 4000 valores nulos'''\n",
    "\n",
    "drop_cols=list(null_cols[null_cols>4000].index)\n",
    "df=df.drop(drop_cols,axis=1)\n",
    "df.columns"
   ]
  },
  {
   "cell_type": "code",
   "execution_count": 7,
   "metadata": {
    "ExecuteTime": {
     "end_time": "2020-02-06T19:49:58.727728Z",
     "start_time": "2020-02-06T19:49:58.715575Z"
    }
   },
   "outputs": [
    {
     "data": {
      "text/plain": [
       "Index(['Case_Number', 'Date', 'Year', 'Type', 'Country', 'Area', 'Location',\n",
       "       'Activity', 'Name', 'Sex', 'Age', 'Injury', 'Fatal_Injury', 'Time',\n",
       "       'Species', 'Investigator_or_Source', 'pdf', 'href formula', 'href',\n",
       "       'Case Number.1', 'Case Number.2', 'Original_Order'],\n",
       "      dtype='object')"
      ]
     },
     "execution_count": 7,
     "metadata": {},
     "output_type": "execute_result"
    }
   ],
   "source": [
    "'''Corregimos los espacios que tienen las columnas Sex y Species y aquellas que tienen un \" \", le ponemos un _'''\n",
    "df=df.rename(columns={\"Sex \": \"Sex\", \"Species \": \"Species\",\"Case Number\": \"Case_Number\",\"Fatal (Y/N)\": \"Fatal_Injury\",\"Investigator or Source\": \"Investigator_or_Source\",\"original order\": \"Original_Order\"})\n",
    "df.columns"
   ]
  },
  {
   "cell_type": "code",
   "execution_count": 8,
   "metadata": {
    "ExecuteTime": {
     "end_time": "2020-02-06T19:49:58.734673Z",
     "start_time": "2020-02-06T19:49:58.730519Z"
    }
   },
   "outputs": [
    {
     "data": {
      "text/plain": [
       "'Comprobar las columnas con titulo parecido que % de datos iguales tiene, \\nmantenemos un href ya que tiene la informacion completa en formato pdf y puede ser util consultarlo'"
      ]
     },
     "execution_count": 8,
     "metadata": {},
     "output_type": "execute_result"
    }
   ],
   "source": [
    "'''Comprobar las columnas con titulo parecido que % de datos iguales tiene, \n",
    "mantenemos un href ya que tiene la informacion completa en formato pdf y puede ser util consultarlo'''"
   ]
  },
  {
   "cell_type": "code",
   "execution_count": 9,
   "metadata": {
    "ExecuteTime": {
     "end_time": "2020-02-06T19:49:58.748861Z",
     "start_time": "2020-02-06T19:49:58.737542Z"
    }
   },
   "outputs": [],
   "source": [
    "'''Vemos que casi todas las columnas son non-null object \n",
    "asi que cambiamos el dtype de la columna Year y original order para tenerlo \n",
    "todo en texto y poder manipular/comparar mejor'''\n",
    "\n",
    "df['Year']=df['Year'].apply(str)\n",
    "df['Original_order']=df['Original_Order'].apply(str)"
   ]
  },
  {
   "cell_type": "code",
   "execution_count": 10,
   "metadata": {
    "ExecuteTime": {
     "end_time": "2020-02-06T19:49:58.754864Z",
     "start_time": "2020-02-06T19:49:58.751112Z"
    }
   },
   "outputs": [
    {
     "data": {
      "text/plain": [
       "'Mirar columnas Species y Injury, \\nya que parecen dos columnas de campo abierto con lo que dificilmente seran utiles'"
      ]
     },
     "execution_count": 10,
     "metadata": {},
     "output_type": "execute_result"
    }
   ],
   "source": [
    "'''Mirar columnas Species y Injury, \n",
    "ya que parecen dos columnas de campo abierto con lo que dificilmente seran utiles'''"
   ]
  },
  {
   "cell_type": "code",
   "execution_count": 11,
   "metadata": {
    "ExecuteTime": {
     "end_time": "2020-02-06T19:49:58.761744Z",
     "start_time": "2020-02-06T19:49:58.756762Z"
    }
   },
   "outputs": [
    {
     "data": {
      "text/plain": [
       "'2016.09.18.c-NSB.pdf'"
      ]
     },
     "execution_count": 11,
     "metadata": {},
     "output_type": "execute_result"
    }
   ],
   "source": [
    "'''Mirar informacion de un pdf'''\n",
    "df['pdf'][0]"
   ]
  },
  {
   "cell_type": "code",
   "execution_count": 12,
   "metadata": {
    "ExecuteTime": {
     "end_time": "2020-02-06T19:49:58.768068Z",
     "start_time": "2020-02-06T19:49:58.763558Z"
    }
   },
   "outputs": [
    {
     "data": {
      "text/plain": [
       "'http://sharkattackfile.net/spreadsheets/pdf_directory/2016.09.18.c-NSB.pdf'"
      ]
     },
     "execution_count": 12,
     "metadata": {},
     "output_type": "execute_result"
    }
   ],
   "source": [
    "'''Mirar informacion de un pdf'''\n",
    "df['href formula'][0]"
   ]
  },
  {
   "cell_type": "code",
   "execution_count": 13,
   "metadata": {
    "ExecuteTime": {
     "end_time": "2020-02-06T19:49:58.772786Z",
     "start_time": "2020-02-06T19:49:58.769784Z"
    }
   },
   "outputs": [],
   "source": [
    "'''Eliminamos aquellas columnas repetidas o que creemos que no van a tener sentido utilizar para nuestro analisis'''\n",
    "\n",
    "drop_list = ['pdf', 'href formula',\n",
    "       'Case Number.1', 'Case Number.2','Original_Order','Species','Injury']\n"
   ]
  },
  {
   "cell_type": "code",
   "execution_count": 14,
   "metadata": {
    "ExecuteTime": {
     "end_time": "2020-02-06T19:49:58.787349Z",
     "start_time": "2020-02-06T19:49:58.774731Z"
    }
   },
   "outputs": [],
   "source": [
    "df=df.drop(drop_list,axis=1)"
   ]
  },
  {
   "cell_type": "code",
   "execution_count": 15,
   "metadata": {
    "ExecuteTime": {
     "end_time": "2020-02-06T19:49:58.811122Z",
     "start_time": "2020-02-06T19:49:58.789266Z"
    }
   },
   "outputs": [
    {
     "data": {
      "text/html": [
       "<div>\n",
       "<style scoped>\n",
       "    .dataframe tbody tr th:only-of-type {\n",
       "        vertical-align: middle;\n",
       "    }\n",
       "\n",
       "    .dataframe tbody tr th {\n",
       "        vertical-align: top;\n",
       "    }\n",
       "\n",
       "    .dataframe thead th {\n",
       "        text-align: right;\n",
       "    }\n",
       "</style>\n",
       "<table border=\"1\" class=\"dataframe\">\n",
       "  <thead>\n",
       "    <tr style=\"text-align: right;\">\n",
       "      <th></th>\n",
       "      <th>Case_Number</th>\n",
       "      <th>Date</th>\n",
       "      <th>Year</th>\n",
       "      <th>Type</th>\n",
       "      <th>Country</th>\n",
       "      <th>Area</th>\n",
       "      <th>Location</th>\n",
       "      <th>Activity</th>\n",
       "      <th>Name</th>\n",
       "      <th>Sex</th>\n",
       "      <th>Age</th>\n",
       "      <th>Fatal_Injury</th>\n",
       "      <th>Time</th>\n",
       "      <th>Investigator_or_Source</th>\n",
       "      <th>href</th>\n",
       "      <th>Original_order</th>\n",
       "    </tr>\n",
       "  </thead>\n",
       "  <tbody>\n",
       "    <tr>\n",
       "      <th>0</th>\n",
       "      <td>2016.09.18.c</td>\n",
       "      <td>18-Sep-16</td>\n",
       "      <td>2016</td>\n",
       "      <td>Unprovoked</td>\n",
       "      <td>USA</td>\n",
       "      <td>Florida</td>\n",
       "      <td>New Smyrna Beach, Volusia County</td>\n",
       "      <td>Surfing</td>\n",
       "      <td>male</td>\n",
       "      <td>M</td>\n",
       "      <td>16</td>\n",
       "      <td>N</td>\n",
       "      <td>13h00</td>\n",
       "      <td>Orlando Sentinel, 9/19/2016</td>\n",
       "      <td>http://sharkattackfile.net/spreadsheets/pdf_di...</td>\n",
       "      <td>5993</td>\n",
       "    </tr>\n",
       "    <tr>\n",
       "      <th>1</th>\n",
       "      <td>2016.09.18.b</td>\n",
       "      <td>18-Sep-16</td>\n",
       "      <td>2016</td>\n",
       "      <td>Unprovoked</td>\n",
       "      <td>USA</td>\n",
       "      <td>Florida</td>\n",
       "      <td>New Smyrna Beach, Volusia County</td>\n",
       "      <td>Surfing</td>\n",
       "      <td>Chucky Luciano</td>\n",
       "      <td>M</td>\n",
       "      <td>36</td>\n",
       "      <td>N</td>\n",
       "      <td>11h00</td>\n",
       "      <td>Orlando Sentinel, 9/19/2016</td>\n",
       "      <td>http://sharkattackfile.net/spreadsheets/pdf_di...</td>\n",
       "      <td>5992</td>\n",
       "    </tr>\n",
       "  </tbody>\n",
       "</table>\n",
       "</div>"
      ],
      "text/plain": [
       "    Case_Number       Date  Year        Type Country     Area  \\\n",
       "0  2016.09.18.c  18-Sep-16  2016  Unprovoked     USA  Florida   \n",
       "1  2016.09.18.b  18-Sep-16  2016  Unprovoked     USA  Florida   \n",
       "\n",
       "                           Location Activity            Name Sex Age  \\\n",
       "0  New Smyrna Beach, Volusia County  Surfing            male   M  16   \n",
       "1  New Smyrna Beach, Volusia County  Surfing  Chucky Luciano   M  36   \n",
       "\n",
       "  Fatal_Injury   Time       Investigator_or_Source  \\\n",
       "0            N  13h00  Orlando Sentinel, 9/19/2016   \n",
       "1            N  11h00  Orlando Sentinel, 9/19/2016   \n",
       "\n",
       "                                                href Original_order  \n",
       "0  http://sharkattackfile.net/spreadsheets/pdf_di...           5993  \n",
       "1  http://sharkattackfile.net/spreadsheets/pdf_di...           5992  "
      ]
     },
     "execution_count": 15,
     "metadata": {},
     "output_type": "execute_result"
    }
   ],
   "source": [
    "df.head(2)"
   ]
  },
  {
   "cell_type": "code",
   "execution_count": 16,
   "metadata": {
    "ExecuteTime": {
     "end_time": "2020-02-06T19:49:58.817512Z",
     "start_time": "2020-02-06T19:49:58.812964Z"
    }
   },
   "outputs": [
    {
     "data": {
      "text/plain": [
       "Index(['Case_Number', 'Date', 'Year', 'Type', 'Country', 'Area', 'Location',\n",
       "       'Activity', 'Name', 'Sex', 'Age', 'Fatal_Injury', 'Time',\n",
       "       'Investigator_or_Source', 'href', 'Original_order'],\n",
       "      dtype='object')"
      ]
     },
     "execution_count": 16,
     "metadata": {},
     "output_type": "execute_result"
    }
   ],
   "source": [
    "df.columns"
   ]
  },
  {
   "cell_type": "code",
   "execution_count": 17,
   "metadata": {
    "ExecuteTime": {
     "end_time": "2020-02-06T19:49:58.849022Z",
     "start_time": "2020-02-06T19:49:58.819301Z"
    }
   },
   "outputs": [],
   "source": [
    "'''Como vamos a trabajar con textos cambiamos\n",
    " los na values por \"Unknown\" para que sea de mas facil visualizacion '''\n",
    "df=df.fillna(value='Unknown')\n"
   ]
  },
  {
   "cell_type": "code",
   "execution_count": 18,
   "metadata": {
    "ExecuteTime": {
     "end_time": "2020-02-06T19:49:58.869059Z",
     "start_time": "2020-02-06T19:49:58.858434Z"
    }
   },
   "outputs": [
    {
     "data": {
      "text/plain": [
       "Index(['Case_Number', 'Date', 'Year', 'Type', 'Country', 'Area', 'Location',\n",
       "       'Activity', 'Name', 'Sex', 'Age', 'Fatal_Injury', 'Time',\n",
       "       'Investigator_or_Source', 'href', 'Original_order'],\n",
       "      dtype='object')"
      ]
     },
     "execution_count": 18,
     "metadata": {},
     "output_type": "execute_result"
    }
   ],
   "source": [
    "df.columns"
   ]
  },
  {
   "cell_type": "code",
   "execution_count": 19,
   "metadata": {
    "ExecuteTime": {
     "end_time": "2020-02-06T19:49:58.894461Z",
     "start_time": "2020-02-06T19:49:58.873270Z"
    }
   },
   "outputs": [
    {
     "data": {
      "text/plain": [
       "M          4835\n",
       "F           585\n",
       "Unknown     567\n",
       "M             2\n",
       "lli           1\n",
       "N             1\n",
       ".             1\n",
       "Name: Sex, dtype: int64"
      ]
     },
     "execution_count": 19,
     "metadata": {},
     "output_type": "execute_result"
    }
   ],
   "source": [
    "pd.value_counts(df['Sex'])"
   ]
  },
  {
   "cell_type": "code",
   "execution_count": 20,
   "metadata": {
    "ExecuteTime": {
     "end_time": "2020-02-06T19:49:58.927806Z",
     "start_time": "2020-02-06T19:49:58.898074Z"
    }
   },
   "outputs": [],
   "source": [
    "'''Despues de ver con value_counts cuales son los valores \n",
    "que mas se repiten en algunas columnas hacemos algunas limpiezas especificas'''\n",
    "\n",
    "\n",
    "columns=['Fatal_Injury']\n",
    "\n",
    "for column in columns:\n",
    "    df[column] = df[column].str.replace(\" \",\"\")\n",
    "    df[column] = df[column].str.replace(\"n\",\"N\")\n",
    "    df[column] = df[column].str.replace(\"F\",\"Y\")\n",
    "    df[column] = df[column].str.capitalize()"
   ]
  },
  {
   "cell_type": "code",
   "execution_count": 21,
   "metadata": {
    "ExecuteTime": {
     "end_time": "2020-02-06T19:49:59.040026Z",
     "start_time": "2020-02-06T19:49:58.930830Z"
    }
   },
   "outputs": [],
   "source": [
    "columns=['Time']\n",
    "\n",
    "for column in columns:\n",
    "    df[column] = df[column].str.capitalize()\n",
    "    df[column] = df[column].str.replace(\"Late\",\"\")\n",
    "    df[column] = df[column].str.replace(\"late\",\"\")\n",
    "    df[column] = df[column].str.replace(\"Early\",\"\")\n",
    "    df[column] = df[column].str.replace(\"Mid\",\"\")\n",
    "    df[column] = df[column].str.replace(\"Between\",\"\")\n",
    "    df[column] = df[column].str.replace(\"Just Before\",\"\")\n",
    "    df[column] = df[column].str.replace(\"Before\",\"\")\n",
    "    df[column] = df[column].str.replace(\"After\",\"\")\n",
    "    \n",
    "    df[column] = df[column].str.capitalize()"
   ]
  },
  {
   "cell_type": "code",
   "execution_count": 22,
   "metadata": {
    "ExecuteTime": {
     "end_time": "2020-02-06T19:49:59.080924Z",
     "start_time": "2020-02-06T19:49:59.042644Z"
    }
   },
   "outputs": [
    {
     "data": {
      "text/plain": [
       "M          4837\n",
       "F           585\n",
       "Unknown     568\n",
       "N             1\n",
       "Lli           1\n",
       "Name: Sex, dtype: int64"
      ]
     },
     "execution_count": 22,
     "metadata": {},
     "output_type": "execute_result"
    }
   ],
   "source": [
    "columns=['Sex']\n",
    "\n",
    "for column in columns:\n",
    "    df[column] = df[column].str.replace(\"M \",\"M\")\n",
    "    df[column] = df[column].str.replace(\".\",\"Unknown\")\n",
    "    df[column] = df[column].str.capitalize()\n",
    "\n",
    "pd.value_counts(df['Sex'])"
   ]
  },
  {
   "cell_type": "code",
   "execution_count": 23,
   "metadata": {
    "ExecuteTime": {
     "end_time": "2020-02-06T19:49:59.155399Z",
     "start_time": "2020-02-06T19:49:59.089399Z"
    }
   },
   "outputs": [],
   "source": [
    "columns=['Date']\n",
    "\n",
    "for column in columns:\n",
    "    df[column] = df[column].str.replace(\"Before\",\"\")\n",
    "    df[column] = df[column].str.replace(\"Reported\",\"\")\n",
    "    df[column] = df[column].str.replace(\"reported\",\"\")\n",
    "    df[column] = df[column].str.replace(\"Late\",\"\")\n",
    "    df[column] = df[column].str.replace(\"Early\",\"\")\n",
    "    df[column] = df[column].str.replace(\"Summer\",\"\")"
   ]
  },
  {
   "cell_type": "code",
   "execution_count": 24,
   "metadata": {
    "ExecuteTime": {
     "end_time": "2020-02-06T19:50:00.009816Z",
     "start_time": "2020-02-06T19:49:59.159801Z"
    }
   },
   "outputs": [],
   "source": [
    "'''Hacemos una limpieza general de los textos para eliminar \n",
    "todos aquellos caracteres que no son alfanumericos \n",
    "y aquellos espacios al inicio del texto\n",
    "Eliminamos tambien aquellos dobles y triples espacios\n",
    "Por ultimo utilizamos capitalize para dar mejor formato y estructura al texto'''\n",
    "def get_num(string_num):\n",
    "    return re.findall('\\d+',string_num)\n",
    "\n",
    "def split_it(string):\n",
    "    return re.sub(r'[^\\w]',' ', string)\n",
    "\n",
    "def beg_white(string):\n",
    "    return re.sub(r'^[ \\t]+','', string)\n",
    "\n",
    "for column in df.columns:\n",
    "    if  column == ('Year' or 'Sex'):\n",
    "        next\n",
    "    else:\n",
    "        df[column] = df[column].apply(lambda x: split_it(x))\n",
    "        df[column] = df[column].str.replace(\"  \",\" \")\n",
    "        df[column] = df[column].str.replace(\"   \",\" \")\n",
    "        df[column] = df[column].apply(lambda x: beg_white(x))        \n",
    "        df[column] = df[column].str.capitalize()\n"
   ]
  },
  {
   "cell_type": "code",
   "execution_count": 25,
   "metadata": {
    "ExecuteTime": {
     "end_time": "2020-02-06T19:50:03.669737Z",
     "start_time": "2020-02-06T19:50:00.012225Z"
    }
   },
   "outputs": [
    {
     "name": "stdout",
     "output_type": "stream",
     "text": [
      "Case_Number\n",
      "['2005 04 06', '1923 00 00 a', '2014 08 02', '1983 06 15', '2009 12 18', '1915 07 06 a r', '1980 07 00', '1920 00 00 b', '1913 08 27 r', '1907 10 16 r', '2012 09 02 b', '1966 12 26', '2013 10 05', '2006 09 02', '1990 05 10', '1962 06 11 b', '2013 07 28 b', '2015 06 26 b', '1997 08 14 b', '1924 10 18', '2014 08 01', '2010 08 02 b', '1959 07 28', '1998 08 01 b', '2012 07 07 a']\n",
      "Date\n",
      "['1958', '1957', '1942', '1956', '1950', '1941', '1970s', '1949', 'No date', '1960', '05 oct 03', 'No date  1963', '1955', '1954', '1952', '1961', '1938', 'Aug 56', '1940', '12 apr 01', '28 jul 95', 'Oct 60', '1959', '1876', '1898']\n",
      "Year\n",
      "Type\n",
      "['Unprovoked', 'Provoked', 'Invalid', 'Sea disaster', 'Boat', 'Boating']\n",
      "Country\n",
      "['Usa', 'Australia', 'South africa', 'Papua new guinea', 'New zealand', 'Brazil', 'Bahamas', 'Mexico', 'Italy', 'Fiji', 'Philippines', 'Reunion', 'New caledonia', 'Mozambique', 'Unknown', 'Cuba', 'Spain', 'India', 'Egypt', 'Croatia', 'Panama', 'Japan', 'Solomon islands', 'Iran', 'Greece']\n",
      "Area\n",
      "['Florida', 'New south wales', 'Unknown', 'Queensland', 'Hawaii', 'California', 'Kwazulu natal', 'Western cape province', 'Western australia', 'Eastern cape province', 'South carolina', 'South australia', 'North carolina', 'Victoria', 'Texas', 'Pernambuco', 'Torres strait', 'North island', 'New jersey', 'Tasmania', 'South island', 'Oregon', 'New york', 'Northern territory', 'Abaco islands']\n",
      "Location\n",
      "['Unknown', 'New smyrna beach volusia county', 'Daytona beach volusia county', 'Cocoa beach brevard county', 'Ponce inlet volusia county', 'Myrtle beach horry county', 'Durban', 'Melbourne beach brevard county', 'Isle of palms charleston county', 'Boa viagem recife', 'Ponce inlet new smyrna beach volusia county', 'Palm beach palm beach county', 'Ahvaz on the karun river', 'Mossel bay', 'Singer island riviera beach palm beach county', 'Nahoon', 'Sydney harbor', 'Sydney', 'Xai xai', 'Piedade', 'Ormond beach volusia county', 'Boa viagem beach recife', 'Near thursday island', 'Jacksonville beach duval county', 'Florida keys monroe county']\n",
      "Activity\n",
      "['Surfing', 'Swimming', 'Unknown', 'Fishing', 'Spearfishing', 'Bathing', 'Wading', 'Diving', 'Standing', 'Scuba diving', 'Snorkeling', 'Body boarding', 'Swimming ', 'Body surfing', 'Boogie boarding', 'Treading water', 'Pearl diving', 'Kayaking', 'Free diving', 'Surf skiing', 'Fell overboard', 'Windsurfing', 'Shark fishing', 'Walking', 'Sea disaster']\n",
      "Name\n",
      "['Male', 'Unknown', 'Female', 'Boy', '2 males', 'Boat', 'Anonymous', 'Sailor', 'Child', 'A sailor', 'Girl', 'Fisherman', 'Unidentified', 'Males', 'A native', 'A pearl diver', 'Black male', 'A soldier', '2 fishermen', 'Arab boy', 'Aboriginal male', '3 males', 'Dinghy', 'Andre hartman', 'Native boy']\n",
      "Sex\n",
      "['M', 'F', 'Unknown', 'N', 'Lli']\n",
      "Age\n",
      "['Unknown', '17', '18', '19', '20', '15', '16', '21', '22', '24', '25', '14', '13', '23', '26', '27', '28', '29', '30', '12', '35', '32', '10', '40', '31']\n",
      "Fatal_Injury\n",
      "['N', 'Y', 'Unknown', 'Value ']\n",
      "Time\n",
      "['Unknown', 'Noon', '11h00', 'Morning', '12h00', '15h00', '14h00', '16h00', '16h30', '13h00', '14h30', '17h30', '17h00', 'Night', '18h00', '15h30', '11h30', '13h30', '10h00', '09h00', '10h30', 'Afternoon', '12h30', 'Evening', '07h30']\n",
      "Investigator_or_Source\n",
      "['C moore gsaf', 'C creswell gsaf', 'S petersohn gsaf', 'R collier', 'T peake gsaf', 'M levine gsaf', 'R collier gsaf', 'A gifford gsaf', 'C moore', 'Gsaf', 'E pace fsaf', 'G van grevelynghe', 'E ritter gsaf', 'Jconline', 'Unknown', 'J green p 36', 'W leander', 'C johansson gsaf', 'R d weeks gsaf', 'S petersohn', 'C black gsaf', 'K nakaya', 'C creswell', 'M vorenberg gsaf', 'M vorenberg']\n",
      "href\n",
      "['Http  sharkattackfile net spreadsheets pdf_directory w014 01 25 grant pdf', 'Unknown', 'Http  sharkattackfile net spreadsheets pdf_directory 2014 10 02 b vandenberg pdf', 'Http  sharkattackfile net spreadsheets pdf_directory 1931 09 21 a b holaday barrows pdf', 'Http  sharkattackfile net spreadsheets pdf_directory 1907 10 16 r hongkong pdf', 'Http  sharkattackfile net spreadsheets pdf_directory 1929 03 04 a b roads aldridge pdf', 'Http  sharkattackfile net spreadsheets pdf_directory 1921 11 27 a b jack pdf', 'Http  sharkattackfile net spreadsheets pdf_directory 1898 00 00 r syria pdf', 'Http  sharkattackfile net spreadsheets pdf_directory 1935 06 05 r solomonislands pdf', 'Http  sharkattackfile net spreadsheets pdf_directory 1934 12 23 a b inman pdf', 'Http  sharkattackfile net spreadsheets pdf_directory 1916 07 12 a b stillwell fisher pdf', 'Http  sharkattackfile net spreadsheets pdf_directory 2014 10 14 bandy pdf', 'Http  sharkattackfile net spreadsheets pdf_directory 1923 00 00 a nj fisherman pdf', 'Http  sharkattackfile net spreadsheets pdf_directory 1906 09 27 r a b munich swede pdf', 'Http  sharkattackfile net spreadsheets pdf_directory 1916 12 08 a b german pdf', 'Http  sharkattackfile net spreadsheets pdf_directory nd 0025 sgt spectacleisland pdf', 'Http  sharkattackfile net spreadsheets pdf_directory 2010 08 18 shorten pdf', 'Http  sharkattackfile net spreadsheets pdf_directory 1909 00 00 woywoy pdf', 'Http  sharkattackfile net spreadsheets pdf_directory 2011 08 01 virolle pdf', 'Http  sharkattackfile net spreadsheets pdf_directory 1951 11 28 a plowman pdf', 'Http  sharkattackfile net spreadsheets pdf_directory 1979 00 00 elderlymale pdf', 'Http  sharkattackfile net spreadsheets pdf_directory 1996 10 00 nv josebias pdf', 'Http  sharkattackfile net spreadsheets pdf_directory 1974 07 02 billyhorne pdf', 'Http  sharkattackfile net spreadsheets pdf_directory 1996 02 19 r peters pdf', 'Http  sharkattackfile net spreadsheets pdf_directory 1995 00 00 e sacks pdf']\n",
      "Original_order\n",
      "['5739', '3847', '569', '5661', '3390', '59', '2134', '5941', '3870', '4082', '1819', '2303', '3050', '3925', '1394', '4531', '1976', '1426', '4641', '167', '2062', '1523', '2863', '1947', '1779']\n"
     ]
    }
   ],
   "source": [
    "'''Para simplificar los datos e intentar unificar \n",
    "aquellos que mas se repiten y poder estandarizar \n",
    "la informacion utilizo el siguiente for loop para \n",
    "que aquellos valores que empiezan con ese mismo texto solo mantenga ese inicio'''\n",
    "\n",
    "for column in df.columns:\n",
    "    print(column)\n",
    "    if  column == 'Year':\n",
    "        next\n",
    "    else:\n",
    "        list_top_25 = df[column].value_counts().index[:25].tolist()\n",
    "        print(list_top_25)\n",
    "        for value in list_top_25:\n",
    "            df.loc[df[column].str.startswith(value),column]=value\n",
    "            "
   ]
  },
  {
   "cell_type": "code",
   "execution_count": 26,
   "metadata": {
    "ExecuteTime": {
     "end_time": "2020-02-06T19:50:03.699587Z",
     "start_time": "2020-02-06T19:50:03.672529Z"
    }
   },
   "outputs": [
    {
     "data": {
      "text/plain": [
       "M          4837\n",
       "F           585\n",
       "Unknown     568\n",
       "N             1\n",
       "Lli           1\n",
       "Name: Sex, dtype: int64"
      ]
     },
     "execution_count": 26,
     "metadata": {},
     "output_type": "execute_result"
    }
   ],
   "source": [
    "pd.value_counts(df['Sex'])"
   ]
  },
  {
   "cell_type": "code",
   "execution_count": null,
   "metadata": {},
   "outputs": [],
   "source": []
  },
  {
   "cell_type": "code",
   "execution_count": 27,
   "metadata": {
    "ExecuteTime": {
     "end_time": "2020-02-06T19:50:03.710962Z",
     "start_time": "2020-02-06T19:50:03.703647Z"
    }
   },
   "outputs": [],
   "source": [
    "#df['Date'] = df['Date'].str.replace(\"Before \",\"\")"
   ]
  },
  {
   "cell_type": "code",
   "execution_count": 28,
   "metadata": {
    "ExecuteTime": {
     "end_time": "2020-02-06T19:50:03.784454Z",
     "start_time": "2020-02-06T19:50:03.717713Z"
    }
   },
   "outputs": [],
   "source": [
    "#df[['Year','Month']] = df.Date.str.split(\" \",expand=True)\n",
    "'''Tanto en las columnas Case_Number como Date \n",
    "tenemos datos de fechas, y como casi siempre sigue \n",
    "la misma estructura podemos hacer un split para \n",
    "luego quedarnos con los datos que mas nos interesan'''\n",
    "\n",
    "df[['Year_Date','Month_Date','Date_Date']] = pd.DataFrame(df.Date.str.split(' ',2).tolist(),columns =['Y_D','M_D','D_D'])\n",
    "df[['Year_Case','Month','Date_Case','Case_Case']] = pd.DataFrame(df.Case_Number.str.split(' ',3).tolist(),columns =['Y_C','M_C','D_C','C_C'])\n"
   ]
  },
  {
   "cell_type": "code",
   "execution_count": 29,
   "metadata": {
    "ExecuteTime": {
     "end_time": "2020-02-06T19:50:03.836739Z",
     "start_time": "2020-02-06T19:50:03.790038Z"
    }
   },
   "outputs": [
    {
     "data": {
      "text/html": [
       "<div>\n",
       "<style scoped>\n",
       "    .dataframe tbody tr th:only-of-type {\n",
       "        vertical-align: middle;\n",
       "    }\n",
       "\n",
       "    .dataframe tbody tr th {\n",
       "        vertical-align: top;\n",
       "    }\n",
       "\n",
       "    .dataframe thead th {\n",
       "        text-align: right;\n",
       "    }\n",
       "</style>\n",
       "<table border=\"1\" class=\"dataframe\">\n",
       "  <thead>\n",
       "    <tr style=\"text-align: right;\">\n",
       "      <th></th>\n",
       "      <th>Case_Number</th>\n",
       "      <th>Date</th>\n",
       "      <th>Year</th>\n",
       "      <th>Type</th>\n",
       "      <th>Country</th>\n",
       "      <th>Area</th>\n",
       "      <th>Location</th>\n",
       "      <th>Activity</th>\n",
       "      <th>Name</th>\n",
       "      <th>Sex</th>\n",
       "      <th>Age</th>\n",
       "      <th>Fatal_Injury</th>\n",
       "      <th>Time</th>\n",
       "      <th>Investigator_or_Source</th>\n",
       "      <th>href</th>\n",
       "      <th>Original_order</th>\n",
       "      <th>Year_Date</th>\n",
       "      <th>Month_Date</th>\n",
       "      <th>Date_Date</th>\n",
       "      <th>Month</th>\n",
       "    </tr>\n",
       "  </thead>\n",
       "  <tbody>\n",
       "    <tr>\n",
       "      <th>0</th>\n",
       "      <td>2016 09 18 c</td>\n",
       "      <td>18 sep 16</td>\n",
       "      <td>2016</td>\n",
       "      <td>Unprovoked</td>\n",
       "      <td>Usa</td>\n",
       "      <td>Florida</td>\n",
       "      <td>New smyrna beach volusia county</td>\n",
       "      <td>Surfing</td>\n",
       "      <td>Male</td>\n",
       "      <td>M</td>\n",
       "      <td>16</td>\n",
       "      <td>N</td>\n",
       "      <td>13h00</td>\n",
       "      <td>Orlando sentinel 9 19 2016</td>\n",
       "      <td>Http  sharkattackfile net spreadsheets pdf_dir...</td>\n",
       "      <td>59</td>\n",
       "      <td>18</td>\n",
       "      <td>sep</td>\n",
       "      <td>16</td>\n",
       "      <td>09</td>\n",
       "    </tr>\n",
       "    <tr>\n",
       "      <th>1</th>\n",
       "      <td>2016 09 18 b</td>\n",
       "      <td>18 sep 16</td>\n",
       "      <td>2016</td>\n",
       "      <td>Unprovoked</td>\n",
       "      <td>Usa</td>\n",
       "      <td>Florida</td>\n",
       "      <td>New smyrna beach volusia county</td>\n",
       "      <td>Surfing</td>\n",
       "      <td>Chucky luciano</td>\n",
       "      <td>M</td>\n",
       "      <td>36</td>\n",
       "      <td>N</td>\n",
       "      <td>11h00</td>\n",
       "      <td>Orlando sentinel 9 19 2016</td>\n",
       "      <td>Http  sharkattackfile net spreadsheets pdf_dir...</td>\n",
       "      <td>59</td>\n",
       "      <td>18</td>\n",
       "      <td>sep</td>\n",
       "      <td>16</td>\n",
       "      <td>09</td>\n",
       "    </tr>\n",
       "  </tbody>\n",
       "</table>\n",
       "</div>"
      ],
      "text/plain": [
       "    Case_Number       Date  Year        Type Country     Area  \\\n",
       "0  2016 09 18 c  18 sep 16  2016  Unprovoked     Usa  Florida   \n",
       "1  2016 09 18 b  18 sep 16  2016  Unprovoked     Usa  Florida   \n",
       "\n",
       "                          Location Activity            Name Sex Age  \\\n",
       "0  New smyrna beach volusia county  Surfing            Male   M  16   \n",
       "1  New smyrna beach volusia county  Surfing  Chucky luciano   M  36   \n",
       "\n",
       "  Fatal_Injury   Time      Investigator_or_Source  \\\n",
       "0            N  13h00  Orlando sentinel 9 19 2016   \n",
       "1            N  11h00  Orlando sentinel 9 19 2016   \n",
       "\n",
       "                                                href Original_order Year_Date  \\\n",
       "0  Http  sharkattackfile net spreadsheets pdf_dir...             59        18   \n",
       "1  Http  sharkattackfile net spreadsheets pdf_dir...             59        18   \n",
       "\n",
       "  Month_Date Date_Date Month  \n",
       "0        sep        16    09  \n",
       "1        sep        16    09  "
      ]
     },
     "execution_count": 29,
     "metadata": {},
     "output_type": "execute_result"
    }
   ],
   "source": [
    "'''Una vez hecho el split eliminamos aquellas columnas que no nos interesan'''\n",
    "\n",
    "drop_cols2=['Year_Case','Date_Case','Case_Case']\n",
    "df=df.drop(drop_cols2,axis=1)\n",
    "df.head(2)"
   ]
  },
  {
   "cell_type": "code",
   "execution_count": 30,
   "metadata": {
    "ExecuteTime": {
     "end_time": "2020-02-06T19:50:08.043504Z",
     "start_time": "2020-02-06T19:50:03.844725Z"
    }
   },
   "outputs": [],
   "source": [
    "'''Tanto en las columnas Year Year_Date tenemos años\n",
    "y para segun que filas tenemos datos en una columna\n",
    "y no en la otra asi que cuando el valor es 0 en la \n",
    "columna miramos si en la otra existe un valor y lo unificamos'''\n",
    "\n",
    "#df['Year'] = df['Year'].str.replace(\"0\",df['Date'])\n",
    "df['Year'].replace('0',df['Year_Date'],inplace=True)\n",
    "\n",
    "\n",
    "'''Una vez utilizas las columnas las eliminamos'''\n",
    "\n",
    "drop_cols3=['Year_Date','Month_Date','Date_Date']\n",
    "df=df.drop(drop_cols3,axis=1)"
   ]
  },
  {
   "cell_type": "code",
   "execution_count": 31,
   "metadata": {
    "ExecuteTime": {
     "end_time": "2020-02-06T19:50:08.050686Z",
     "start_time": "2020-02-06T19:50:08.045702Z"
    }
   },
   "outputs": [],
   "source": [
    "#pd.options.display.max_rows=None"
   ]
  },
  {
   "cell_type": "code",
   "execution_count": 32,
   "metadata": {
    "ExecuteTime": {
     "end_time": "2020-02-06T19:50:08.101598Z",
     "start_time": "2020-02-06T19:50:08.053277Z"
    }
   },
   "outputs": [],
   "source": [
    "'''Nos interesa sacar las horas para aquellas \n",
    "celads que lo tenemos aunque sean pocsa'''\n",
    "\n",
    "df[['Hour','Minute']] = pd.DataFrame(df.Time.str.split('h',1).tolist(),columns =['hour','minute'])\n",
    "df['Hour'] = df['Hour'].str.capitalize()\n",
    "df['Hour'] = df['Hour'].apply(lambda x: beg_white(x)) \n",
    "df['Hour2'] = df['Hour'].str.capitalize()"
   ]
  },
  {
   "cell_type": "code",
   "execution_count": 33,
   "metadata": {
    "ExecuteTime": {
     "end_time": "2020-02-06T19:50:08.259863Z",
     "start_time": "2020-02-06T19:50:08.104873Z"
    }
   },
   "outputs": [],
   "source": [
    "'''Como tenemos muy pocos datos de horas, \n",
    "para poder aprovecharlos y poder analizarlos \n",
    "los agrupamos segun las horas del dia. hay datos que ya tenian estas categorias asi que unificamos.'''\n",
    "\n",
    "df['Hour2'] = df['Hour2'].str.replace('Nig','Night')\n",
    "\n",
    "df['Hour2'] = df['Hour2'].str.replace('00','Night')\n",
    "df['Hour2'] = df['Hour2'].str.replace('01','Night')\n",
    "df['Hour2'] = df['Hour2'].str.replace('02','Night')\n",
    "df['Hour2'] = df['Hour2'].str.replace('03','Night')\n",
    "df['Hour2'] = df['Hour2'].str.replace('04','Night')\n",
    "df['Hour2'] = df['Hour2'].str.replace('05','Morning')\n",
    "df['Hour2'] = df['Hour2'].str.replace('06','Morning')\n",
    "df['Hour2'] = df['Hour2'].str.replace('07','Morning')\n",
    "df['Hour2'] = df['Hour2'].str.replace('08','Morning')\n",
    "df['Hour2'] = df['Hour2'].str.replace('09','Morning')\n",
    "df['Hour2'] = df['Hour2'].str.replace('10','Morning')\n",
    "df['Hour2'] = df['Hour2'].str.replace('11','Noon')\n",
    "df['Hour2'] = df['Hour2'].str.replace('12','Noon')\n",
    "df['Hour2'] = df['Hour2'].str.replace('13','Noon')\n",
    "df['Hour2'] = df['Hour2'].str.replace('14','Noon')\n",
    "df['Hour2'] = df['Hour2'].str.replace('15','Afternoon')\n",
    "df['Hour2'] = df['Hour2'].str.replace('16','Afternoon')\n",
    "df['Hour2'] = df['Hour2'].str.replace('17','Afternoon')\n",
    "df['Hour2'] = df['Hour2'].str.replace('18','Afternoon')\n",
    "df['Hour2'] = df['Hour2'].str.replace('19','Evening')\n",
    "df['Hour2'] = df['Hour2'].str.replace('20','Evening')\n",
    "df['Hour2'] = df['Hour2'].str.replace('21','Evening')\n",
    "df['Hour2'] = df['Hour2'].str.replace('22','Evening')\n",
    "df['Hour2'] = df['Hour2'].str.replace('23','Evening')"
   ]
  },
  {
   "cell_type": "code",
   "execution_count": 35,
   "metadata": {
    "ExecuteTime": {
     "end_time": "2020-02-06T19:50:08.426377Z",
     "start_time": "2020-02-06T19:50:08.285941Z"
    }
   },
   "outputs": [],
   "source": [
    "columns=['Month']\n",
    "\n",
    "for column in columns:\n",
    "    df.loc[(df[column].str.len()>2)|(df[column]=='00') ,column]='Unknown'\n",
    "    df[column] = df[column].str.replace(\"01\",\"January\")\n",
    "    df[column] = df[column].str.replace(\"02\",\"February\")\n",
    "    df[column] = df[column].str.replace(\"03\",\"March\")\n",
    "    df[column] = df[column].str.replace(\"04\",\"April\")\n",
    "    df[column] = df[column].str.replace(\"05\",\"May\")\n",
    "    df[column] = df[column].str.replace(\"06\",\"June\")\n",
    "    df[column] = df[column].str.replace(\"07\",\"July\")\n",
    "    df[column] = df[column].str.replace(\"08\",\"August\")\n",
    "    df[column] = df[column].str.replace(\"09\",\"Septembrer\")\n",
    "    df[column] = df[column].str.replace(\"10\",\"October\")\n",
    "    df[column] = df[column].str.replace(\"11\",\"November\")\n",
    "    df[column] = df[column].str.replace(\"12\",\"December\")\n"
   ]
  },
  {
   "cell_type": "code",
   "execution_count": 36,
   "metadata": {
    "ExecuteTime": {
     "end_time": "2020-02-06T19:50:08.983509Z",
     "start_time": "2020-02-06T19:50:08.428755Z"
    }
   },
   "outputs": [
    {
     "data": {
      "text/plain": [
       "Unknown    2712\n",
       "17          150\n",
       "18          148\n",
       "20          144\n",
       "19          139\n",
       "           ... \n",
       "84            1\n",
       "86            1\n",
       "87            1\n",
       "81            1\n",
       "73            1\n",
       "Name: Age, Length: 81, dtype: int64"
      ]
     },
     "execution_count": 36,
     "metadata": {},
     "output_type": "execute_result"
    }
   ],
   "source": [
    "df['Age'] = df['Age'].apply(lambda x: get_num(x))\n",
    "\n",
    "count=0\n",
    "for i in df['Age']:\n",
    "    if len(i)==0:\n",
    "        df['Age'][count]='Unknown'\n",
    "    else:\n",
    "        df['Age'][count]=i[0]\n",
    "    count+=1\n",
    "    "
   ]
  },
  {
   "cell_type": "code",
   "execution_count": 39,
   "metadata": {
    "ExecuteTime": {
     "end_time": "2020-02-06T19:50:09.060963Z",
     "start_time": "2020-02-06T19:50:09.026392Z"
    }
   },
   "outputs": [
    {
     "data": {
      "text/html": [
       "<div>\n",
       "<style scoped>\n",
       "    .dataframe tbody tr th:only-of-type {\n",
       "        vertical-align: middle;\n",
       "    }\n",
       "\n",
       "    .dataframe tbody tr th {\n",
       "        vertical-align: top;\n",
       "    }\n",
       "\n",
       "    .dataframe thead th {\n",
       "        text-align: right;\n",
       "    }\n",
       "</style>\n",
       "<table border=\"1\" class=\"dataframe\">\n",
       "  <thead>\n",
       "    <tr style=\"text-align: right;\">\n",
       "      <th></th>\n",
       "      <th>Country</th>\n",
       "      <th>Case_Number</th>\n",
       "    </tr>\n",
       "  </thead>\n",
       "  <tbody>\n",
       "    <tr>\n",
       "      <th>184</th>\n",
       "      <td>Usa</td>\n",
       "      <td>2116</td>\n",
       "    </tr>\n",
       "    <tr>\n",
       "      <th>10</th>\n",
       "      <td>Australia</td>\n",
       "      <td>1279</td>\n",
       "    </tr>\n",
       "    <tr>\n",
       "      <th>153</th>\n",
       "      <td>South africa</td>\n",
       "      <td>565</td>\n",
       "    </tr>\n",
       "    <tr>\n",
       "      <th>131</th>\n",
       "      <td>Papua new guinea</td>\n",
       "      <td>133</td>\n",
       "    </tr>\n",
       "    <tr>\n",
       "      <th>113</th>\n",
       "      <td>New zealand</td>\n",
       "      <td>125</td>\n",
       "    </tr>\n",
       "    <tr>\n",
       "      <th>20</th>\n",
       "      <td>Brazil</td>\n",
       "      <td>102</td>\n",
       "    </tr>\n",
       "    <tr>\n",
       "      <th>12</th>\n",
       "      <td>Bahamas</td>\n",
       "      <td>98</td>\n",
       "    </tr>\n",
       "    <tr>\n",
       "      <th>100</th>\n",
       "      <td>Mexico</td>\n",
       "      <td>82</td>\n",
       "    </tr>\n",
       "    <tr>\n",
       "      <th>78</th>\n",
       "      <td>Italy</td>\n",
       "      <td>72</td>\n",
       "    </tr>\n",
       "    <tr>\n",
       "      <th>53</th>\n",
       "      <td>Fiji</td>\n",
       "      <td>65</td>\n",
       "    </tr>\n",
       "    <tr>\n",
       "      <th>134</th>\n",
       "      <td>Philippines</td>\n",
       "      <td>60</td>\n",
       "    </tr>\n",
       "    <tr>\n",
       "      <th>140</th>\n",
       "      <td>Reunion</td>\n",
       "      <td>57</td>\n",
       "    </tr>\n",
       "    <tr>\n",
       "      <th>111</th>\n",
       "      <td>New caledonia</td>\n",
       "      <td>51</td>\n",
       "    </tr>\n",
       "    <tr>\n",
       "      <th>72</th>\n",
       "      <td>India</td>\n",
       "      <td>45</td>\n",
       "    </tr>\n",
       "    <tr>\n",
       "      <th>106</th>\n",
       "      <td>Mozambique</td>\n",
       "      <td>44</td>\n",
       "    </tr>\n",
       "  </tbody>\n",
       "</table>\n",
       "</div>"
      ],
      "text/plain": [
       "              Country  Case_Number\n",
       "184               Usa         2116\n",
       "10          Australia         1279\n",
       "153      South africa          565\n",
       "131  Papua new guinea          133\n",
       "113       New zealand          125\n",
       "20             Brazil          102\n",
       "12            Bahamas           98\n",
       "100            Mexico           82\n",
       "78              Italy           72\n",
       "53               Fiji           65\n",
       "134       Philippines           60\n",
       "140           Reunion           57\n",
       "111     New caledonia           51\n",
       "72              India           45\n",
       "106        Mozambique           44"
      ]
     },
     "execution_count": 39,
     "metadata": {},
     "output_type": "execute_result"
    }
   ],
   "source": [
    "countries = df.groupby('Country', as_index=False)['Case_Number'].count()\n",
    "countries.sort_values(by=['Case_Number'], ascending=False).head(15)"
   ]
  },
  {
   "cell_type": "code",
   "execution_count": 40,
   "metadata": {
    "ExecuteTime": {
     "end_time": "2020-02-06T19:50:09.100900Z",
     "start_time": "2020-02-06T19:50:09.069875Z"
    }
   },
   "outputs": [
    {
     "data": {
      "text/html": [
       "<div>\n",
       "<style scoped>\n",
       "    .dataframe tbody tr th:only-of-type {\n",
       "        vertical-align: middle;\n",
       "    }\n",
       "\n",
       "    .dataframe tbody tr th {\n",
       "        vertical-align: top;\n",
       "    }\n",
       "\n",
       "    .dataframe thead th {\n",
       "        text-align: right;\n",
       "    }\n",
       "</style>\n",
       "<table border=\"1\" class=\"dataframe\">\n",
       "  <thead>\n",
       "    <tr style=\"text-align: right;\">\n",
       "      <th></th>\n",
       "      <th>Activity</th>\n",
       "      <th>Case_Number</th>\n",
       "    </tr>\n",
       "  </thead>\n",
       "  <tbody>\n",
       "    <tr>\n",
       "      <th>713</th>\n",
       "      <td>Swimming</td>\n",
       "      <td>1019</td>\n",
       "    </tr>\n",
       "    <tr>\n",
       "      <th>706</th>\n",
       "      <td>Surfing</td>\n",
       "      <td>944</td>\n",
       "    </tr>\n",
       "    <tr>\n",
       "      <th>294</th>\n",
       "      <td>Fishing</td>\n",
       "      <td>594</td>\n",
       "    </tr>\n",
       "    <tr>\n",
       "      <th>783</th>\n",
       "      <td>Unknown</td>\n",
       "      <td>532</td>\n",
       "    </tr>\n",
       "    <tr>\n",
       "      <th>676</th>\n",
       "      <td>Spearfishing</td>\n",
       "      <td>394</td>\n",
       "    </tr>\n",
       "    <tr>\n",
       "      <th>237</th>\n",
       "      <td>Diving</td>\n",
       "      <td>216</td>\n",
       "    </tr>\n",
       "    <tr>\n",
       "      <th>102</th>\n",
       "      <td>Bathing</td>\n",
       "      <td>174</td>\n",
       "    </tr>\n",
       "    <tr>\n",
       "      <th>791</th>\n",
       "      <td>Wading</td>\n",
       "      <td>161</td>\n",
       "    </tr>\n",
       "    <tr>\n",
       "      <th>690</th>\n",
       "      <td>Standing</td>\n",
       "      <td>128</td>\n",
       "    </tr>\n",
       "    <tr>\n",
       "      <th>609</th>\n",
       "      <td>Scuba diving</td>\n",
       "      <td>113</td>\n",
       "    </tr>\n",
       "  </tbody>\n",
       "</table>\n",
       "</div>"
      ],
      "text/plain": [
       "         Activity  Case_Number\n",
       "713      Swimming         1019\n",
       "706       Surfing          944\n",
       "294       Fishing          594\n",
       "783       Unknown          532\n",
       "676  Spearfishing          394\n",
       "237        Diving          216\n",
       "102       Bathing          174\n",
       "791        Wading          161\n",
       "690      Standing          128\n",
       "609  Scuba diving          113"
      ]
     },
     "execution_count": 40,
     "metadata": {},
     "output_type": "execute_result"
    }
   ],
   "source": [
    "Activity = df.groupby('Activity', as_index=False)['Case_Number'].count()\n",
    "Activity.sort_values(by=['Case_Number'], ascending=False).head(10)"
   ]
  },
  {
   "cell_type": "code",
   "execution_count": 41,
   "metadata": {
    "ExecuteTime": {
     "end_time": "2020-02-06T19:50:09.131648Z",
     "start_time": "2020-02-06T19:50:09.109537Z"
    }
   },
   "outputs": [
    {
     "data": {
      "text/html": [
       "<div>\n",
       "<style scoped>\n",
       "    .dataframe tbody tr th:only-of-type {\n",
       "        vertical-align: middle;\n",
       "    }\n",
       "\n",
       "    .dataframe tbody tr th {\n",
       "        vertical-align: top;\n",
       "    }\n",
       "\n",
       "    .dataframe thead th {\n",
       "        text-align: right;\n",
       "    }\n",
       "</style>\n",
       "<table border=\"1\" class=\"dataframe\">\n",
       "  <thead>\n",
       "    <tr style=\"text-align: right;\">\n",
       "      <th></th>\n",
       "      <th>Month</th>\n",
       "      <th>Case_Number</th>\n",
       "    </tr>\n",
       "  </thead>\n",
       "  <tbody>\n",
       "    <tr>\n",
       "      <th>5</th>\n",
       "      <td>July</td>\n",
       "      <td>634</td>\n",
       "    </tr>\n",
       "    <tr>\n",
       "      <th>1</th>\n",
       "      <td>August</td>\n",
       "      <td>580</td>\n",
       "    </tr>\n",
       "    <tr>\n",
       "      <th>11</th>\n",
       "      <td>Septembrer</td>\n",
       "      <td>524</td>\n",
       "    </tr>\n",
       "    <tr>\n",
       "      <th>12</th>\n",
       "      <td>Unknown</td>\n",
       "      <td>522</td>\n",
       "    </tr>\n",
       "    <tr>\n",
       "      <th>4</th>\n",
       "      <td>January</td>\n",
       "      <td>500</td>\n",
       "    </tr>\n",
       "    <tr>\n",
       "      <th>6</th>\n",
       "      <td>June</td>\n",
       "      <td>474</td>\n",
       "    </tr>\n",
       "    <tr>\n",
       "      <th>2</th>\n",
       "      <td>December</td>\n",
       "      <td>423</td>\n",
       "    </tr>\n",
       "    <tr>\n",
       "      <th>0</th>\n",
       "      <td>April</td>\n",
       "      <td>410</td>\n",
       "    </tr>\n",
       "    <tr>\n",
       "      <th>10</th>\n",
       "      <td>October</td>\n",
       "      <td>407</td>\n",
       "    </tr>\n",
       "    <tr>\n",
       "      <th>7</th>\n",
       "      <td>March</td>\n",
       "      <td>398</td>\n",
       "    </tr>\n",
       "  </tbody>\n",
       "</table>\n",
       "</div>"
      ],
      "text/plain": [
       "         Month  Case_Number\n",
       "5         July          634\n",
       "1       August          580\n",
       "11  Septembrer          524\n",
       "12     Unknown          522\n",
       "4      January          500\n",
       "6         June          474\n",
       "2     December          423\n",
       "0        April          410\n",
       "10     October          407\n",
       "7        March          398"
      ]
     },
     "execution_count": 41,
     "metadata": {},
     "output_type": "execute_result"
    }
   ],
   "source": [
    "Activity = df.groupby('Month', as_index=False)['Case_Number'].count()\n",
    "Activity.sort_values(by=['Case_Number'], ascending=False).head(10)"
   ]
  },
  {
   "cell_type": "code",
   "execution_count": 42,
   "metadata": {
    "ExecuteTime": {
     "end_time": "2020-02-06T19:50:09.179951Z",
     "start_time": "2020-02-06T19:50:09.134097Z"
    }
   },
   "outputs": [
    {
     "data": {
      "text/html": [
       "<div>\n",
       "<style scoped>\n",
       "    .dataframe tbody tr th:only-of-type {\n",
       "        vertical-align: middle;\n",
       "    }\n",
       "\n",
       "    .dataframe tbody tr th {\n",
       "        vertical-align: top;\n",
       "    }\n",
       "\n",
       "    .dataframe thead th {\n",
       "        text-align: right;\n",
       "    }\n",
       "</style>\n",
       "<table border=\"1\" class=\"dataframe\">\n",
       "  <thead>\n",
       "    <tr style=\"text-align: right;\">\n",
       "      <th></th>\n",
       "      <th>Case_Number</th>\n",
       "      <th>Date</th>\n",
       "      <th>Year</th>\n",
       "      <th>Type</th>\n",
       "      <th>Country</th>\n",
       "      <th>Area</th>\n",
       "      <th>Location</th>\n",
       "      <th>Activity</th>\n",
       "      <th>Name</th>\n",
       "      <th>Sex</th>\n",
       "      <th>Age</th>\n",
       "      <th>Fatal_Injury</th>\n",
       "      <th>Time</th>\n",
       "      <th>Investigator_or_Source</th>\n",
       "      <th>href</th>\n",
       "      <th>Original_order</th>\n",
       "      <th>Month</th>\n",
       "      <th>Hour</th>\n",
       "      <th>Minute</th>\n",
       "      <th>Hour2</th>\n",
       "    </tr>\n",
       "  </thead>\n",
       "  <tbody>\n",
       "    <tr>\n",
       "      <th>0</th>\n",
       "      <td>2016 09 18 c</td>\n",
       "      <td>18 sep 16</td>\n",
       "      <td>2016</td>\n",
       "      <td>Unprovoked</td>\n",
       "      <td>Usa</td>\n",
       "      <td>Florida</td>\n",
       "      <td>New smyrna beach volusia county</td>\n",
       "      <td>Surfing</td>\n",
       "      <td>Male</td>\n",
       "      <td>M</td>\n",
       "      <td>16</td>\n",
       "      <td>N</td>\n",
       "      <td>13h00</td>\n",
       "      <td>Orlando sentinel 9 19 2016</td>\n",
       "      <td>Http  sharkattackfile net spreadsheets pdf_dir...</td>\n",
       "      <td>59</td>\n",
       "      <td>Septembrer</td>\n",
       "      <td>13</td>\n",
       "      <td>00</td>\n",
       "      <td>Noon</td>\n",
       "    </tr>\n",
       "    <tr>\n",
       "      <th>1</th>\n",
       "      <td>2016 09 18 b</td>\n",
       "      <td>18 sep 16</td>\n",
       "      <td>2016</td>\n",
       "      <td>Unprovoked</td>\n",
       "      <td>Usa</td>\n",
       "      <td>Florida</td>\n",
       "      <td>New smyrna beach volusia county</td>\n",
       "      <td>Surfing</td>\n",
       "      <td>Chucky luciano</td>\n",
       "      <td>M</td>\n",
       "      <td>36</td>\n",
       "      <td>N</td>\n",
       "      <td>11h00</td>\n",
       "      <td>Orlando sentinel 9 19 2016</td>\n",
       "      <td>Http  sharkattackfile net spreadsheets pdf_dir...</td>\n",
       "      <td>59</td>\n",
       "      <td>Septembrer</td>\n",
       "      <td>11</td>\n",
       "      <td>00</td>\n",
       "      <td>Noon</td>\n",
       "    </tr>\n",
       "  </tbody>\n",
       "</table>\n",
       "</div>"
      ],
      "text/plain": [
       "    Case_Number       Date  Year        Type Country     Area  \\\n",
       "0  2016 09 18 c  18 sep 16  2016  Unprovoked     Usa  Florida   \n",
       "1  2016 09 18 b  18 sep 16  2016  Unprovoked     Usa  Florida   \n",
       "\n",
       "                          Location Activity            Name Sex Age  \\\n",
       "0  New smyrna beach volusia county  Surfing            Male   M  16   \n",
       "1  New smyrna beach volusia county  Surfing  Chucky luciano   M  36   \n",
       "\n",
       "  Fatal_Injury   Time      Investigator_or_Source  \\\n",
       "0            N  13h00  Orlando sentinel 9 19 2016   \n",
       "1            N  11h00  Orlando sentinel 9 19 2016   \n",
       "\n",
       "                                                href Original_order  \\\n",
       "0  Http  sharkattackfile net spreadsheets pdf_dir...             59   \n",
       "1  Http  sharkattackfile net spreadsheets pdf_dir...             59   \n",
       "\n",
       "        Month Hour Minute Hour2  \n",
       "0  Septembrer   13     00  Noon  \n",
       "1  Septembrer   11     00  Noon  "
      ]
     },
     "execution_count": 42,
     "metadata": {},
     "output_type": "execute_result"
    }
   ],
   "source": [
    "df.head(2)"
   ]
  },
  {
   "cell_type": "code",
   "execution_count": 47,
   "metadata": {
    "ExecuteTime": {
     "end_time": "2020-02-06T20:02:22.680574Z",
     "start_time": "2020-02-06T20:02:22.565574Z"
    }
   },
   "outputs": [],
   "source": [
    "df.to_csv('data_cleaned_sharks.csv')"
   ]
  },
  {
   "cell_type": "code",
   "execution_count": 43,
   "metadata": {
    "ExecuteTime": {
     "end_time": "2020-02-06T19:50:09.219367Z",
     "start_time": "2020-02-06T19:50:09.190443Z"
    }
   },
   "outputs": [
    {
     "data": {
      "text/html": [
       "<div>\n",
       "<style scoped>\n",
       "    .dataframe tbody tr th:only-of-type {\n",
       "        vertical-align: middle;\n",
       "    }\n",
       "\n",
       "    .dataframe tbody tr th {\n",
       "        vertical-align: top;\n",
       "    }\n",
       "\n",
       "    .dataframe thead th {\n",
       "        text-align: right;\n",
       "    }\n",
       "</style>\n",
       "<table border=\"1\" class=\"dataframe\">\n",
       "  <thead>\n",
       "    <tr style=\"text-align: right;\">\n",
       "      <th></th>\n",
       "      <th>Year</th>\n",
       "      <th>Month</th>\n",
       "      <th>Hour2</th>\n",
       "      <th>Country</th>\n",
       "      <th>Activity</th>\n",
       "      <th>Sex</th>\n",
       "      <th>Fatal_Injury</th>\n",
       "      <th>Age</th>\n",
       "    </tr>\n",
       "  </thead>\n",
       "  <tbody>\n",
       "    <tr>\n",
       "      <th>0</th>\n",
       "      <td>2016</td>\n",
       "      <td>Septembrer</td>\n",
       "      <td>Noon</td>\n",
       "      <td>Usa</td>\n",
       "      <td>Surfing</td>\n",
       "      <td>M</td>\n",
       "      <td>N</td>\n",
       "      <td>16</td>\n",
       "    </tr>\n",
       "    <tr>\n",
       "      <th>1</th>\n",
       "      <td>2016</td>\n",
       "      <td>Septembrer</td>\n",
       "      <td>Noon</td>\n",
       "      <td>Usa</td>\n",
       "      <td>Surfing</td>\n",
       "      <td>M</td>\n",
       "      <td>N</td>\n",
       "      <td>36</td>\n",
       "    </tr>\n",
       "    <tr>\n",
       "      <th>2</th>\n",
       "      <td>2016</td>\n",
       "      <td>Septembrer</td>\n",
       "      <td>Morning</td>\n",
       "      <td>Usa</td>\n",
       "      <td>Surfing</td>\n",
       "      <td>M</td>\n",
       "      <td>N</td>\n",
       "      <td>43</td>\n",
       "    </tr>\n",
       "    <tr>\n",
       "      <th>3</th>\n",
       "      <td>2016</td>\n",
       "      <td>Septembrer</td>\n",
       "      <td>Unknown</td>\n",
       "      <td>Australia</td>\n",
       "      <td>Surfing</td>\n",
       "      <td>M</td>\n",
       "      <td>N</td>\n",
       "      <td>Unknown</td>\n",
       "    </tr>\n",
       "    <tr>\n",
       "      <th>4</th>\n",
       "      <td>2016</td>\n",
       "      <td>Septembrer</td>\n",
       "      <td>Unknown</td>\n",
       "      <td>Australia</td>\n",
       "      <td>Surfing</td>\n",
       "      <td>M</td>\n",
       "      <td>N</td>\n",
       "      <td>Unknown</td>\n",
       "    </tr>\n",
       "    <tr>\n",
       "      <th>...</th>\n",
       "      <td>...</td>\n",
       "      <td>...</td>\n",
       "      <td>...</td>\n",
       "      <td>...</td>\n",
       "      <td>...</td>\n",
       "      <td>...</td>\n",
       "      <td>...</td>\n",
       "      <td>...</td>\n",
       "    </tr>\n",
       "    <tr>\n",
       "      <th>5987</th>\n",
       "      <td>1903</td>\n",
       "      <td>Unknown</td>\n",
       "      <td>Unknown</td>\n",
       "      <td>Australia</td>\n",
       "      <td>Diving</td>\n",
       "      <td>M</td>\n",
       "      <td>Y</td>\n",
       "      <td>Unknown</td>\n",
       "    </tr>\n",
       "    <tr>\n",
       "      <th>5988</th>\n",
       "      <td>1903</td>\n",
       "      <td>Unknown</td>\n",
       "      <td>Unknown</td>\n",
       "      <td>Australia</td>\n",
       "      <td>Pearl diving</td>\n",
       "      <td>M</td>\n",
       "      <td>Y</td>\n",
       "      <td>Unknown</td>\n",
       "    </tr>\n",
       "    <tr>\n",
       "      <th>5989</th>\n",
       "      <td>1900</td>\n",
       "      <td>Unknown</td>\n",
       "      <td>Unknown</td>\n",
       "      <td>Usa</td>\n",
       "      <td>Swimming</td>\n",
       "      <td>M</td>\n",
       "      <td>Y</td>\n",
       "      <td>Unknown</td>\n",
       "    </tr>\n",
       "    <tr>\n",
       "      <th>5990</th>\n",
       "      <td>1883</td>\n",
       "      <td>Unknown</td>\n",
       "      <td>Unknown</td>\n",
       "      <td>Panama</td>\n",
       "      <td>Unknown</td>\n",
       "      <td>M</td>\n",
       "      <td>Y</td>\n",
       "      <td>Unknown</td>\n",
       "    </tr>\n",
       "    <tr>\n",
       "      <th>5991</th>\n",
       "      <td>1845</td>\n",
       "      <td>Unknown</td>\n",
       "      <td>Unknown</td>\n",
       "      <td>Ceylon sri lanka</td>\n",
       "      <td>Swimming</td>\n",
       "      <td>M</td>\n",
       "      <td>Y</td>\n",
       "      <td>15</td>\n",
       "    </tr>\n",
       "  </tbody>\n",
       "</table>\n",
       "<p>5992 rows × 8 columns</p>\n",
       "</div>"
      ],
      "text/plain": [
       "      Year       Month    Hour2            Country      Activity Sex  \\\n",
       "0     2016  Septembrer     Noon                Usa       Surfing   M   \n",
       "1     2016  Septembrer     Noon                Usa       Surfing   M   \n",
       "2     2016  Septembrer  Morning                Usa       Surfing   M   \n",
       "3     2016  Septembrer  Unknown          Australia       Surfing   M   \n",
       "4     2016  Septembrer  Unknown          Australia       Surfing   M   \n",
       "...    ...         ...      ...                ...           ...  ..   \n",
       "5987  1903     Unknown  Unknown          Australia        Diving   M   \n",
       "5988  1903     Unknown  Unknown          Australia  Pearl diving   M   \n",
       "5989  1900     Unknown  Unknown                Usa      Swimming   M   \n",
       "5990  1883     Unknown  Unknown             Panama       Unknown   M   \n",
       "5991  1845     Unknown  Unknown  Ceylon sri lanka       Swimming   M   \n",
       "\n",
       "     Fatal_Injury      Age  \n",
       "0               N       16  \n",
       "1               N       36  \n",
       "2               N       43  \n",
       "3               N  Unknown  \n",
       "4               N  Unknown  \n",
       "...           ...      ...  \n",
       "5987            Y  Unknown  \n",
       "5988            Y  Unknown  \n",
       "5989            Y  Unknown  \n",
       "5990            Y  Unknown  \n",
       "5991            Y       15  \n",
       "\n",
       "[5992 rows x 8 columns]"
      ]
     },
     "execution_count": 43,
     "metadata": {},
     "output_type": "execute_result"
    }
   ],
   "source": [
    "'''Con la limpieza que hemos hecho ahora \n",
    "en las columnas siguientes tenemos \n",
    "datos limpiados que nos pueden servir para hacer estudios\n",
    "\n",
    "\n",
    "Posibles analysis estadisticos a realizar:\n",
    "\n",
    "1. Cuando ocurren la mayoria de los accidentes? Cuales de estos son fatales?\n",
    "2. Que paises son los que tienen mas accidentes Fatales?\n",
    "3. Bajo que actividad ocurren la moayoria de Fatal_Injuries?\n",
    "4. Cuales son los meses en los que mas accidentes hay? \n",
    "Aqui tener cuidado pq no tenemos la misma gente en el agua todos los meses\n",
    "5. Histograma de evolucion de registros por año y mes.\n",
    "6. Analisis % de los ultimos años que son los que tenemos mas datos.\n",
    "    Ejemplo: % de los accidentes registrados en un año ocurren en cada pais.\n",
    "\n",
    "\n",
    "\n",
    "'''\n",
    "\n",
    "\n",
    "\n",
    "st_analysis=df[['Year','Month','Hour2','Country','Activity','Sex','Fatal_Injury','Age']]\n",
    "\n",
    "#pd.options.display.max_rows=None\n",
    "st_analysis"
   ]
  },
  {
   "cell_type": "code",
   "execution_count": 88,
   "metadata": {
    "ExecuteTime": {
     "end_time": "2020-02-06T20:27:50.621878Z",
     "start_time": "2020-02-06T20:27:50.176106Z"
    },
    "scrolled": true
   },
   "outputs": [
    {
     "data": {
      "text/plain": [
       "<matplotlib.axes._subplots.AxesSubplot at 0x1192105d0>"
      ]
     },
     "execution_count": 88,
     "metadata": {},
     "output_type": "execute_result"
    },
    {
     "data": {
      "image/png": "[encoded data removed]",
      "text/plain": [
       "<Figure size 1440x288 with 1 Axes>"
      ]
     },
     "metadata": {
      "needs_background": "light"
     },
     "output_type": "display_data"
    }
   ],
   "source": [
    "df3=df.sort_values(by=['Age'])\n",
    "df3['Age'] = df['Age'].str.replace(\"Unknown\",\"0\")\n",
    "df3.drop(df3[ df3['Age'] == '0' ].index , inplace=True)\n",
    "df3=df3['Age'].astype(int)\n",
    "\n",
    "histograma = df3.hist(bins=80,figsize=(20,4))\n",
    "histograma"
   ]
  },
  {
   "cell_type": "code",
   "execution_count": 97,
   "metadata": {
    "ExecuteTime": {
     "end_time": "2020-02-06T20:34:52.893991Z",
     "start_time": "2020-02-06T20:34:52.315635Z"
    }
   },
   "outputs": [
    {
     "data": {
      "text/plain": [
       "array([[<matplotlib.axes._subplots.AxesSubplot object at 0x119686a90>]],\n",
       "      dtype=object)"
      ]
     },
     "execution_count": 97,
     "metadata": {},
     "output_type": "execute_result"
    },
    {
     "data": {
      "image/png": "[encoded data removed]",
      "text/plain": [
       "<Figure size 1440x288 with 1 Axes>"
      ]
     },
     "metadata": {
      "needs_background": "light"
     },
     "output_type": "display_data"
    }
   ],
   "source": [
    "df3=df.sort_values(by=['Year'])\n",
    "df3['Year'] = df['Year'].str.replace(\"Unknown\",\"0\")\n",
    "df3.drop( df3[ df3['Year'].str.isnumeric() ==False].index , inplace=True)\n",
    "\n",
    "df3['Year']=df3['Year'].astype(int)\n",
    "df3.drop( df3[ df3['Year']<1700].index , inplace=True)\n",
    "\n",
    "histograma = df3.hist(bins=80,figsize=(20,4))\n",
    "histograma"
   ]
  },
  {
   "cell_type": "code",
   "execution_count": null,
   "metadata": {},
   "outputs": [],
   "source": []
  }
 ],
 "metadata": {
  "kernelspec": {
   "display_name": "Python 3",
   "language": "python",
   "name": "python3"
  },
  "language_info": {
   "codemirror_mode": {
    "name": "ipython",
    "version": 3
   },
   "file_extension": ".py",
   "mimetype": "text/x-python",
   "name": "python",
   "nbconvert_exporter": "python",
   "pygments_lexer": "ipython3",
   "version": "3.7.4"
  },
  "varInspector": {
   "cols": {
    "lenName": 16,
    "lenType": 16,
    "lenVar": 40
   },
   "kernels_config": {
    "python": {
     "delete_cmd_postfix": "",
     "delete_cmd_prefix": "del ",
     "library": "var_list.py",
     "varRefreshCmd": "print(var_dic_list())"
    },
    "r": {
     "delete_cmd_postfix": ") ",
     "delete_cmd_prefix": "rm(",
     "library": "var_list.r",
     "varRefreshCmd": "cat(var_dic_list()) "
    }
   },
   "types_to_exclude": [
    "module",
    "function",
    "builtin_function_or_method",
    "instance",
    "_Feature"
   ],
   "window_display": false
  }
 },
 "nbformat": 4,
 "nbformat_minor": 2
}
